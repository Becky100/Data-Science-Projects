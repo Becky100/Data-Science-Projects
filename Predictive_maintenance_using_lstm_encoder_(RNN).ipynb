{
  "cells": [
    {
      "cell_type": "markdown",
      "metadata": {
        "id": "view-in-github",
        "colab_type": "text"
      },
      "source": [
        "<a href=\"https://colab.research.google.com/github/Becky100/Data-Science-Projects/blob/main/Predictive_maintenance_using_lstm_encoder_(RNN).ipynb\" target=\"_parent\"><img src=\"https://colab.research.google.com/assets/colab-badge.svg\" alt=\"Open In Colab\"/></a>"
      ]
    },
    {
      "cell_type": "code",
      "execution_count": null,
      "metadata": {
        "id": "hkRH60SBKMYT"
      },
      "outputs": [],
      "source": [
        "import pandas as pd\n",
        "import os\n",
        "import glob"
      ]
    },
    {
      "cell_type": "code",
      "source": [
        "!gdown --id 1g-CuiTwKUR0ye9Le7S80fNhrEmRbReYr"
      ],
      "metadata": {
        "colab": {
          "base_uri": "https://localhost:8080/"
        },
        "id": "yOVRGnYGzvnc",
        "outputId": "0c449d20-5fdc-4406-cf2b-5d0c56b533c6"
      },
      "execution_count": null,
      "outputs": [
        {
          "output_type": "stream",
          "name": "stdout",
          "text": [
            "/usr/local/lib/python3.7/dist-packages/gdown/cli.py:131: FutureWarning: Option `--id` was deprecated in version 4.3.1 and will be removed in 5.0. You don't need to pass it anymore to use a file ID.\n",
            "  category=FutureWarning,\n",
            "Downloading...\n",
            "From: https://drive.google.com/uc?id=1g-CuiTwKUR0ye9Le7S80fNhrEmRbReYr\n",
            "To: /content/normal.zip\n",
            "100% 325M/325M [00:03<00:00, 86.9MB/s]\n"
          ]
        }
      ]
    },
    {
      "cell_type": "code",
      "execution_count": null,
      "metadata": {
        "id": "cvWPaysZKoI2"
      },
      "outputs": [],
      "source": [
        "#upload the image\n",
        "#from google.colab import files\n",
        "#uploaded = files.upload()"
      ]
    },
    {
      "cell_type": "code",
      "execution_count": null,
      "metadata": {
        "id": "atSX-xyo5UCN",
        "colab": {
          "base_uri": "https://localhost:8080/"
        },
        "outputId": "1bccff73-6284-4a50-97df-5fe9c751dc8c"
      },
      "outputs": [
        {
          "output_type": "stream",
          "name": "stdout",
          "text": [
            "Archive:  /content/normal.zip\n",
            "   creating: /content/output_folder/normal/\n",
            "  inflating: /content/output_folder/normal/12.288.csv  \n",
            "  inflating: /content/output_folder/normal/13.1072.csv  \n",
            "  inflating: /content/output_folder/normal/14.336.csv  \n",
            "  inflating: /content/output_folder/normal/15.1552.csv  \n",
            "  inflating: /content/output_folder/normal/16.1792.csv  \n",
            "  inflating: /content/output_folder/normal/17.2032.csv  \n",
            "  inflating: /content/output_folder/normal/18.432.csv  \n",
            "  inflating: /content/output_folder/normal/19.6608.csv  \n",
            "  inflating: /content/output_folder/normal/20.2752.csv  \n",
            "  inflating: /content/output_folder/normal/21.7088.csv  \n",
            "  inflating: /content/output_folder/normal/22.3232.csv  \n",
            "  inflating: /content/output_folder/normal/23.552.csv  \n",
            "  inflating: /content/output_folder/normal/24.576.csv  \n",
            "  inflating: /content/output_folder/normal/25.6.csv  \n",
            "  inflating: /content/output_folder/normal/26.624.csv  \n",
            "  inflating: /content/output_folder/normal/27.4432.csv  \n",
            "  inflating: /content/output_folder/normal/28.8768.csv  \n",
            "  inflating: /content/output_folder/normal/29.4912.csv  \n",
            "  inflating: /content/output_folder/normal/30.72.csv  \n",
            "  inflating: /content/output_folder/normal/31.744.csv  \n",
            "  inflating: /content/output_folder/normal/32.9728.csv  \n",
            "  inflating: /content/output_folder/normal/33.5872.csv  \n",
            "  inflating: /content/output_folder/normal/34.2016.csv  \n",
            "  inflating: /content/output_folder/normal/35.4304.csv  \n",
            "  inflating: /content/output_folder/normal/36.4544.csv  \n",
            "  inflating: /content/output_folder/normal/37.6832.csv  \n",
            "  inflating: /content/output_folder/normal/38.2976.csv  \n",
            "  inflating: /content/output_folder/normal/39.3216.csv  \n",
            "  inflating: /content/output_folder/normal/40.3456.csv  \n",
            "  inflating: /content/output_folder/normal/41.7792.csv  \n",
            "  inflating: /content/output_folder/normal/42.3936.csv  \n",
            "  inflating: /content/output_folder/normal/43.6224.csv  \n",
            "  inflating: /content/output_folder/normal/44.6464.csv  \n",
            "  inflating: /content/output_folder/normal/45.4656.csv  \n",
            "  inflating: /content/output_folder/normal/46.2848.csv  \n",
            "  inflating: /content/output_folder/normal/47.7184.csv  \n",
            "  inflating: /content/output_folder/normal/48.9472.csv  \n",
            "  inflating: /content/output_folder/normal/49.5616.csv  \n",
            "  inflating: /content/output_folder/normal/51.8144.csv  \n",
            "  inflating: /content/output_folder/normal/52.4288.csv  \n",
            "  inflating: /content/output_folder/normal/53.8624.csv  \n",
            "  inflating: /content/output_folder/normal/54.6816.csv  \n",
            "  inflating: /content/output_folder/normal/55.7056.csv  \n",
            "  inflating: /content/output_folder/normal/56.7296.csv  \n",
            "  inflating: /content/output_folder/normal/57.9584.csv  \n",
            "  inflating: /content/output_folder/normal/58.7776.csv  \n",
            "  inflating: /content/output_folder/normal/59.5968.csv  \n",
            "  inflating: /content/output_folder/normal/60.416.csv  \n",
            "  inflating: /content/output_folder/normal/61.44.csv  \n"
          ]
        }
      ],
      "source": [
        "!unzip \"/content/normal.zip\" -d '/content/output_folder/'"
      ]
    },
    {
      "cell_type": "code",
      "execution_count": null,
      "metadata": {
        "id": "q8hgWVxV5R5q"
      },
      "outputs": [],
      "source": [
        "path='/content/output_folder/normal/'"
      ]
    },
    {
      "cell_type": "code",
      "execution_count": null,
      "metadata": {
        "id": "BDBijhLJRp68",
        "colab": {
          "base_uri": "https://localhost:8080/"
        },
        "outputId": "1eb08e56-948d-433c-da46-935cd314828c"
      },
      "outputs": [
        {
          "output_type": "stream",
          "name": "stdout",
          "text": [
            "Location: /content/output_folder/normal/52.4288.csv\n",
            "File Name: /content/output_folder/normal/52.4288.csv\n",
            "Location: /content/output_folder/normal/23.552.csv\n",
            "File Name: /content/output_folder/normal/23.552.csv\n",
            "Location: /content/output_folder/normal/48.9472.csv\n",
            "File Name: /content/output_folder/normal/48.9472.csv\n",
            "Location: /content/output_folder/normal/38.2976.csv\n",
            "File Name: /content/output_folder/normal/38.2976.csv\n",
            "Location: /content/output_folder/normal/43.6224.csv\n",
            "File Name: /content/output_folder/normal/43.6224.csv\n",
            "Location: /content/output_folder/normal/41.7792.csv\n",
            "File Name: /content/output_folder/normal/41.7792.csv\n",
            "Location: /content/output_folder/normal/55.7056.csv\n",
            "File Name: /content/output_folder/normal/55.7056.csv\n",
            "Location: /content/output_folder/normal/33.5872.csv\n",
            "File Name: /content/output_folder/normal/33.5872.csv\n",
            "Location: /content/output_folder/normal/30.72.csv\n",
            "File Name: /content/output_folder/normal/30.72.csv\n",
            "Location: /content/output_folder/normal/57.9584.csv\n",
            "File Name: /content/output_folder/normal/57.9584.csv\n",
            "Location: /content/output_folder/normal/22.3232.csv\n",
            "File Name: /content/output_folder/normal/22.3232.csv\n",
            "Location: /content/output_folder/normal/24.576.csv\n",
            "File Name: /content/output_folder/normal/24.576.csv\n",
            "Location: /content/output_folder/normal/40.3456.csv\n",
            "File Name: /content/output_folder/normal/40.3456.csv\n",
            "Location: /content/output_folder/normal/34.2016.csv\n",
            "File Name: /content/output_folder/normal/34.2016.csv\n",
            "Location: /content/output_folder/normal/20.2752.csv\n",
            "File Name: /content/output_folder/normal/20.2752.csv\n",
            "Location: /content/output_folder/normal/28.8768.csv\n",
            "File Name: /content/output_folder/normal/28.8768.csv\n",
            "Location: /content/output_folder/normal/58.7776.csv\n",
            "File Name: /content/output_folder/normal/58.7776.csv\n",
            "Location: /content/output_folder/normal/53.8624.csv\n",
            "File Name: /content/output_folder/normal/53.8624.csv\n",
            "Location: /content/output_folder/normal/16.1792.csv\n",
            "File Name: /content/output_folder/normal/16.1792.csv\n",
            "Location: /content/output_folder/normal/35.4304.csv\n",
            "File Name: /content/output_folder/normal/35.4304.csv\n",
            "Location: /content/output_folder/normal/39.3216.csv\n",
            "File Name: /content/output_folder/normal/39.3216.csv\n",
            "Location: /content/output_folder/normal/26.624.csv\n",
            "File Name: /content/output_folder/normal/26.624.csv\n",
            "Location: /content/output_folder/normal/15.1552.csv\n",
            "File Name: /content/output_folder/normal/15.1552.csv\n",
            "Location: /content/output_folder/normal/61.44.csv\n",
            "File Name: /content/output_folder/normal/61.44.csv\n",
            "Location: /content/output_folder/normal/19.6608.csv\n",
            "File Name: /content/output_folder/normal/19.6608.csv\n",
            "Location: /content/output_folder/normal/17.2032.csv\n",
            "File Name: /content/output_folder/normal/17.2032.csv\n",
            "Location: /content/output_folder/normal/45.4656.csv\n",
            "File Name: /content/output_folder/normal/45.4656.csv\n",
            "Location: /content/output_folder/normal/59.5968.csv\n",
            "File Name: /content/output_folder/normal/59.5968.csv\n",
            "Location: /content/output_folder/normal/44.6464.csv\n",
            "File Name: /content/output_folder/normal/44.6464.csv\n",
            "Location: /content/output_folder/normal/31.744.csv\n",
            "File Name: /content/output_folder/normal/31.744.csv\n",
            "Location: /content/output_folder/normal/29.4912.csv\n",
            "File Name: /content/output_folder/normal/29.4912.csv\n",
            "Location: /content/output_folder/normal/13.1072.csv\n",
            "File Name: /content/output_folder/normal/13.1072.csv\n",
            "Location: /content/output_folder/normal/54.6816.csv\n",
            "File Name: /content/output_folder/normal/54.6816.csv\n",
            "Location: /content/output_folder/normal/42.3936.csv\n",
            "File Name: /content/output_folder/normal/42.3936.csv\n",
            "Location: /content/output_folder/normal/14.336.csv\n",
            "File Name: /content/output_folder/normal/14.336.csv\n",
            "Location: /content/output_folder/normal/60.416.csv\n",
            "File Name: /content/output_folder/normal/60.416.csv\n",
            "Location: /content/output_folder/normal/47.7184.csv\n",
            "File Name: /content/output_folder/normal/47.7184.csv\n",
            "Location: /content/output_folder/normal/12.288.csv\n",
            "File Name: /content/output_folder/normal/12.288.csv\n",
            "Location: /content/output_folder/normal/51.8144.csv\n",
            "File Name: /content/output_folder/normal/51.8144.csv\n",
            "Location: /content/output_folder/normal/27.4432.csv\n",
            "File Name: /content/output_folder/normal/27.4432.csv\n",
            "Location: /content/output_folder/normal/32.9728.csv\n",
            "File Name: /content/output_folder/normal/32.9728.csv\n",
            "Location: /content/output_folder/normal/18.432.csv\n",
            "File Name: /content/output_folder/normal/18.432.csv\n",
            "Location: /content/output_folder/normal/21.7088.csv\n",
            "File Name: /content/output_folder/normal/21.7088.csv\n",
            "Location: /content/output_folder/normal/46.2848.csv\n",
            "File Name: /content/output_folder/normal/46.2848.csv\n",
            "Location: /content/output_folder/normal/37.6832.csv\n",
            "File Name: /content/output_folder/normal/37.6832.csv\n",
            "Location: /content/output_folder/normal/36.4544.csv\n",
            "File Name: /content/output_folder/normal/36.4544.csv\n",
            "Location: /content/output_folder/normal/25.6.csv\n",
            "File Name: /content/output_folder/normal/25.6.csv\n",
            "Location: /content/output_folder/normal/49.5616.csv\n",
            "File Name: /content/output_folder/normal/49.5616.csv\n",
            "Location: /content/output_folder/normal/56.7296.csv\n",
            "File Name: /content/output_folder/normal/56.7296.csv\n"
          ]
        }
      ],
      "source": [
        "# use glob to get all the csv files \n",
        "# in the folder\n",
        "csv_files = glob.glob(os.path.join(path, \"*.csv\"))\n",
        "  \n",
        "  \n",
        "# loop over the list of csv files\n",
        "for f in csv_files:\n",
        "      \n",
        "    # read the csv file\n",
        "    df = pd.read_csv(f)\n",
        "      \n",
        "    # print the location and filename\n",
        "    print('Location:', f)\n",
        "    print('File Name:', f.split(\"\\\\\")[-1])"
      ]
    },
    {
      "cell_type": "code",
      "execution_count": null,
      "metadata": {
        "id": "-kDRbWR22lFa",
        "colab": {
          "base_uri": "https://localhost:8080/",
          "height": 206
        },
        "outputId": "99ea39d1-5f25-4312-c50d-ec533feb8fc2"
      },
      "outputs": [
        {
          "output_type": "execute_result",
          "data": {
            "text/plain": [
              "   4.3628  -0.29408    0.5876  0.36474  -0.04359  -0.017989   0.20433  \\\n",
              "0  4.3689 -0.043306  0.758920  0.26327 -0.021677  -0.013760  0.158450   \n",
              "1  4.3680 -0.091259  0.321000  0.21232 -0.028703  -0.017380  0.041075   \n",
              "2  4.3609  0.334780  0.853640  0.29093 -0.003662  -0.014460  0.168000   \n",
              "3  4.3743 -0.240380  0.092714  0.16681 -0.010438  -0.016064  0.119400   \n",
              "4  4.3553  0.357450  0.795320  0.13932  0.019099  -0.011591  0.167160   \n",
              "\n",
              "   -0.064445  \n",
              "0   -0.00584  \n",
              "1    0.15374  \n",
              "2   -0.21415  \n",
              "3    0.29943  \n",
              "4   -0.30605  "
            ],
            "text/html": [
              "\n",
              "  <div id=\"df-f42a36c0-92c9-4ae3-bd39-913318484a3f\">\n",
              "    <div class=\"colab-df-container\">\n",
              "      <div>\n",
              "<style scoped>\n",
              "    .dataframe tbody tr th:only-of-type {\n",
              "        vertical-align: middle;\n",
              "    }\n",
              "\n",
              "    .dataframe tbody tr th {\n",
              "        vertical-align: top;\n",
              "    }\n",
              "\n",
              "    .dataframe thead th {\n",
              "        text-align: right;\n",
              "    }\n",
              "</style>\n",
              "<table border=\"1\" class=\"dataframe\">\n",
              "  <thead>\n",
              "    <tr style=\"text-align: right;\">\n",
              "      <th></th>\n",
              "      <th>4.3628</th>\n",
              "      <th>-0.29408</th>\n",
              "      <th>0.5876</th>\n",
              "      <th>0.36474</th>\n",
              "      <th>-0.04359</th>\n",
              "      <th>-0.017989</th>\n",
              "      <th>0.20433</th>\n",
              "      <th>-0.064445</th>\n",
              "    </tr>\n",
              "  </thead>\n",
              "  <tbody>\n",
              "    <tr>\n",
              "      <th>0</th>\n",
              "      <td>4.3689</td>\n",
              "      <td>-0.043306</td>\n",
              "      <td>0.758920</td>\n",
              "      <td>0.26327</td>\n",
              "      <td>-0.021677</td>\n",
              "      <td>-0.013760</td>\n",
              "      <td>0.158450</td>\n",
              "      <td>-0.00584</td>\n",
              "    </tr>\n",
              "    <tr>\n",
              "      <th>1</th>\n",
              "      <td>4.3680</td>\n",
              "      <td>-0.091259</td>\n",
              "      <td>0.321000</td>\n",
              "      <td>0.21232</td>\n",
              "      <td>-0.028703</td>\n",
              "      <td>-0.017380</td>\n",
              "      <td>0.041075</td>\n",
              "      <td>0.15374</td>\n",
              "    </tr>\n",
              "    <tr>\n",
              "      <th>2</th>\n",
              "      <td>4.3609</td>\n",
              "      <td>0.334780</td>\n",
              "      <td>0.853640</td>\n",
              "      <td>0.29093</td>\n",
              "      <td>-0.003662</td>\n",
              "      <td>-0.014460</td>\n",
              "      <td>0.168000</td>\n",
              "      <td>-0.21415</td>\n",
              "    </tr>\n",
              "    <tr>\n",
              "      <th>3</th>\n",
              "      <td>4.3743</td>\n",
              "      <td>-0.240380</td>\n",
              "      <td>0.092714</td>\n",
              "      <td>0.16681</td>\n",
              "      <td>-0.010438</td>\n",
              "      <td>-0.016064</td>\n",
              "      <td>0.119400</td>\n",
              "      <td>0.29943</td>\n",
              "    </tr>\n",
              "    <tr>\n",
              "      <th>4</th>\n",
              "      <td>4.3553</td>\n",
              "      <td>0.357450</td>\n",
              "      <td>0.795320</td>\n",
              "      <td>0.13932</td>\n",
              "      <td>0.019099</td>\n",
              "      <td>-0.011591</td>\n",
              "      <td>0.167160</td>\n",
              "      <td>-0.30605</td>\n",
              "    </tr>\n",
              "  </tbody>\n",
              "</table>\n",
              "</div>\n",
              "      <button class=\"colab-df-convert\" onclick=\"convertToInteractive('df-f42a36c0-92c9-4ae3-bd39-913318484a3f')\"\n",
              "              title=\"Convert this dataframe to an interactive table.\"\n",
              "              style=\"display:none;\">\n",
              "        \n",
              "  <svg xmlns=\"http://www.w3.org/2000/svg\" height=\"24px\"viewBox=\"0 0 24 24\"\n",
              "       width=\"24px\">\n",
              "    <path d=\"M0 0h24v24H0V0z\" fill=\"none\"/>\n",
              "    <path d=\"M18.56 5.44l.94 2.06.94-2.06 2.06-.94-2.06-.94-.94-2.06-.94 2.06-2.06.94zm-11 1L8.5 8.5l.94-2.06 2.06-.94-2.06-.94L8.5 2.5l-.94 2.06-2.06.94zm10 10l.94 2.06.94-2.06 2.06-.94-2.06-.94-.94-2.06-.94 2.06-2.06.94z\"/><path d=\"M17.41 7.96l-1.37-1.37c-.4-.4-.92-.59-1.43-.59-.52 0-1.04.2-1.43.59L10.3 9.45l-7.72 7.72c-.78.78-.78 2.05 0 2.83L4 21.41c.39.39.9.59 1.41.59.51 0 1.02-.2 1.41-.59l7.78-7.78 2.81-2.81c.8-.78.8-2.07 0-2.86zM5.41 20L4 18.59l7.72-7.72 1.47 1.35L5.41 20z\"/>\n",
              "  </svg>\n",
              "      </button>\n",
              "      \n",
              "  <style>\n",
              "    .colab-df-container {\n",
              "      display:flex;\n",
              "      flex-wrap:wrap;\n",
              "      gap: 12px;\n",
              "    }\n",
              "\n",
              "    .colab-df-convert {\n",
              "      background-color: #E8F0FE;\n",
              "      border: none;\n",
              "      border-radius: 50%;\n",
              "      cursor: pointer;\n",
              "      display: none;\n",
              "      fill: #1967D2;\n",
              "      height: 32px;\n",
              "      padding: 0 0 0 0;\n",
              "      width: 32px;\n",
              "    }\n",
              "\n",
              "    .colab-df-convert:hover {\n",
              "      background-color: #E2EBFA;\n",
              "      box-shadow: 0px 1px 2px rgba(60, 64, 67, 0.3), 0px 1px 3px 1px rgba(60, 64, 67, 0.15);\n",
              "      fill: #174EA6;\n",
              "    }\n",
              "\n",
              "    [theme=dark] .colab-df-convert {\n",
              "      background-color: #3B4455;\n",
              "      fill: #D2E3FC;\n",
              "    }\n",
              "\n",
              "    [theme=dark] .colab-df-convert:hover {\n",
              "      background-color: #434B5C;\n",
              "      box-shadow: 0px 1px 3px 1px rgba(0, 0, 0, 0.15);\n",
              "      filter: drop-shadow(0px 1px 2px rgba(0, 0, 0, 0.3));\n",
              "      fill: #FFFFFF;\n",
              "    }\n",
              "  </style>\n",
              "\n",
              "      <script>\n",
              "        const buttonEl =\n",
              "          document.querySelector('#df-f42a36c0-92c9-4ae3-bd39-913318484a3f button.colab-df-convert');\n",
              "        buttonEl.style.display =\n",
              "          google.colab.kernel.accessAllowed ? 'block' : 'none';\n",
              "\n",
              "        async function convertToInteractive(key) {\n",
              "          const element = document.querySelector('#df-f42a36c0-92c9-4ae3-bd39-913318484a3f');\n",
              "          const dataTable =\n",
              "            await google.colab.kernel.invokeFunction('convertToInteractive',\n",
              "                                                     [key], {});\n",
              "          if (!dataTable) return;\n",
              "\n",
              "          const docLinkHtml = 'Like what you see? Visit the ' +\n",
              "            '<a target=\"_blank\" href=https://colab.research.google.com/notebooks/data_table.ipynb>data table notebook</a>'\n",
              "            + ' to learn more about interactive tables.';\n",
              "          element.innerHTML = '';\n",
              "          dataTable['output_type'] = 'display_data';\n",
              "          await google.colab.output.renderOutput(dataTable, element);\n",
              "          const docLink = document.createElement('div');\n",
              "          docLink.innerHTML = docLinkHtml;\n",
              "          element.appendChild(docLink);\n",
              "        }\n",
              "      </script>\n",
              "    </div>\n",
              "  </div>\n",
              "  "
            ]
          },
          "metadata": {},
          "execution_count": 7
        }
      ],
      "source": [
        "#explore the datafarme\n",
        "df.head()"
      ]
    },
    {
      "cell_type": "code",
      "execution_count": null,
      "metadata": {
        "id": "OfbrWitg753l",
        "colab": {
          "base_uri": "https://localhost:8080/",
          "height": 206
        },
        "outputId": "5607b8ef-37aa-4a34-c2d2-bc9e13eb35ae"
      },
      "outputs": [
        {
          "output_type": "execute_result",
          "data": {
            "text/plain": [
              "         4.3628  -0.29408    0.5876  0.36474  -0.04359  -0.017989   0.20433  \\\n",
              "249994 -1.03560 -0.294840  0.070057 -0.41470   0.27591   0.054593 -0.059505   \n",
              "249995 -0.78172 -0.020367  0.518330 -0.32536   0.28235   0.057769 -0.080966   \n",
              "249996 -0.85936 -0.327290  0.242810 -0.42451   0.27552   0.055748 -0.115640   \n",
              "249997 -0.84848 -0.262780  0.145740 -0.35066   0.26421   0.054907 -0.209470   \n",
              "249998 -0.80233 -0.434330  0.499870 -0.15650   0.27742   0.055818 -0.228470   \n",
              "\n",
              "        -0.064445  \n",
              "249994   0.247710  \n",
              "249995  -0.207820  \n",
              "249996   0.110230  \n",
              "249997  -0.031905  \n",
              "249998  -0.063837  "
            ],
            "text/html": [
              "\n",
              "  <div id=\"df-104452e1-498c-4173-b50e-91f11b24cc84\">\n",
              "    <div class=\"colab-df-container\">\n",
              "      <div>\n",
              "<style scoped>\n",
              "    .dataframe tbody tr th:only-of-type {\n",
              "        vertical-align: middle;\n",
              "    }\n",
              "\n",
              "    .dataframe tbody tr th {\n",
              "        vertical-align: top;\n",
              "    }\n",
              "\n",
              "    .dataframe thead th {\n",
              "        text-align: right;\n",
              "    }\n",
              "</style>\n",
              "<table border=\"1\" class=\"dataframe\">\n",
              "  <thead>\n",
              "    <tr style=\"text-align: right;\">\n",
              "      <th></th>\n",
              "      <th>4.3628</th>\n",
              "      <th>-0.29408</th>\n",
              "      <th>0.5876</th>\n",
              "      <th>0.36474</th>\n",
              "      <th>-0.04359</th>\n",
              "      <th>-0.017989</th>\n",
              "      <th>0.20433</th>\n",
              "      <th>-0.064445</th>\n",
              "    </tr>\n",
              "  </thead>\n",
              "  <tbody>\n",
              "    <tr>\n",
              "      <th>249994</th>\n",
              "      <td>-1.03560</td>\n",
              "      <td>-0.294840</td>\n",
              "      <td>0.070057</td>\n",
              "      <td>-0.41470</td>\n",
              "      <td>0.27591</td>\n",
              "      <td>0.054593</td>\n",
              "      <td>-0.059505</td>\n",
              "      <td>0.247710</td>\n",
              "    </tr>\n",
              "    <tr>\n",
              "      <th>249995</th>\n",
              "      <td>-0.78172</td>\n",
              "      <td>-0.020367</td>\n",
              "      <td>0.518330</td>\n",
              "      <td>-0.32536</td>\n",
              "      <td>0.28235</td>\n",
              "      <td>0.057769</td>\n",
              "      <td>-0.080966</td>\n",
              "      <td>-0.207820</td>\n",
              "    </tr>\n",
              "    <tr>\n",
              "      <th>249996</th>\n",
              "      <td>-0.85936</td>\n",
              "      <td>-0.327290</td>\n",
              "      <td>0.242810</td>\n",
              "      <td>-0.42451</td>\n",
              "      <td>0.27552</td>\n",
              "      <td>0.055748</td>\n",
              "      <td>-0.115640</td>\n",
              "      <td>0.110230</td>\n",
              "    </tr>\n",
              "    <tr>\n",
              "      <th>249997</th>\n",
              "      <td>-0.84848</td>\n",
              "      <td>-0.262780</td>\n",
              "      <td>0.145740</td>\n",
              "      <td>-0.35066</td>\n",
              "      <td>0.26421</td>\n",
              "      <td>0.054907</td>\n",
              "      <td>-0.209470</td>\n",
              "      <td>-0.031905</td>\n",
              "    </tr>\n",
              "    <tr>\n",
              "      <th>249998</th>\n",
              "      <td>-0.80233</td>\n",
              "      <td>-0.434330</td>\n",
              "      <td>0.499870</td>\n",
              "      <td>-0.15650</td>\n",
              "      <td>0.27742</td>\n",
              "      <td>0.055818</td>\n",
              "      <td>-0.228470</td>\n",
              "      <td>-0.063837</td>\n",
              "    </tr>\n",
              "  </tbody>\n",
              "</table>\n",
              "</div>\n",
              "      <button class=\"colab-df-convert\" onclick=\"convertToInteractive('df-104452e1-498c-4173-b50e-91f11b24cc84')\"\n",
              "              title=\"Convert this dataframe to an interactive table.\"\n",
              "              style=\"display:none;\">\n",
              "        \n",
              "  <svg xmlns=\"http://www.w3.org/2000/svg\" height=\"24px\"viewBox=\"0 0 24 24\"\n",
              "       width=\"24px\">\n",
              "    <path d=\"M0 0h24v24H0V0z\" fill=\"none\"/>\n",
              "    <path d=\"M18.56 5.44l.94 2.06.94-2.06 2.06-.94-2.06-.94-.94-2.06-.94 2.06-2.06.94zm-11 1L8.5 8.5l.94-2.06 2.06-.94-2.06-.94L8.5 2.5l-.94 2.06-2.06.94zm10 10l.94 2.06.94-2.06 2.06-.94-2.06-.94-.94-2.06-.94 2.06-2.06.94z\"/><path d=\"M17.41 7.96l-1.37-1.37c-.4-.4-.92-.59-1.43-.59-.52 0-1.04.2-1.43.59L10.3 9.45l-7.72 7.72c-.78.78-.78 2.05 0 2.83L4 21.41c.39.39.9.59 1.41.59.51 0 1.02-.2 1.41-.59l7.78-7.78 2.81-2.81c.8-.78.8-2.07 0-2.86zM5.41 20L4 18.59l7.72-7.72 1.47 1.35L5.41 20z\"/>\n",
              "  </svg>\n",
              "      </button>\n",
              "      \n",
              "  <style>\n",
              "    .colab-df-container {\n",
              "      display:flex;\n",
              "      flex-wrap:wrap;\n",
              "      gap: 12px;\n",
              "    }\n",
              "\n",
              "    .colab-df-convert {\n",
              "      background-color: #E8F0FE;\n",
              "      border: none;\n",
              "      border-radius: 50%;\n",
              "      cursor: pointer;\n",
              "      display: none;\n",
              "      fill: #1967D2;\n",
              "      height: 32px;\n",
              "      padding: 0 0 0 0;\n",
              "      width: 32px;\n",
              "    }\n",
              "\n",
              "    .colab-df-convert:hover {\n",
              "      background-color: #E2EBFA;\n",
              "      box-shadow: 0px 1px 2px rgba(60, 64, 67, 0.3), 0px 1px 3px 1px rgba(60, 64, 67, 0.15);\n",
              "      fill: #174EA6;\n",
              "    }\n",
              "\n",
              "    [theme=dark] .colab-df-convert {\n",
              "      background-color: #3B4455;\n",
              "      fill: #D2E3FC;\n",
              "    }\n",
              "\n",
              "    [theme=dark] .colab-df-convert:hover {\n",
              "      background-color: #434B5C;\n",
              "      box-shadow: 0px 1px 3px 1px rgba(0, 0, 0, 0.15);\n",
              "      filter: drop-shadow(0px 1px 2px rgba(0, 0, 0, 0.3));\n",
              "      fill: #FFFFFF;\n",
              "    }\n",
              "  </style>\n",
              "\n",
              "      <script>\n",
              "        const buttonEl =\n",
              "          document.querySelector('#df-104452e1-498c-4173-b50e-91f11b24cc84 button.colab-df-convert');\n",
              "        buttonEl.style.display =\n",
              "          google.colab.kernel.accessAllowed ? 'block' : 'none';\n",
              "\n",
              "        async function convertToInteractive(key) {\n",
              "          const element = document.querySelector('#df-104452e1-498c-4173-b50e-91f11b24cc84');\n",
              "          const dataTable =\n",
              "            await google.colab.kernel.invokeFunction('convertToInteractive',\n",
              "                                                     [key], {});\n",
              "          if (!dataTable) return;\n",
              "\n",
              "          const docLinkHtml = 'Like what you see? Visit the ' +\n",
              "            '<a target=\"_blank\" href=https://colab.research.google.com/notebooks/data_table.ipynb>data table notebook</a>'\n",
              "            + ' to learn more about interactive tables.';\n",
              "          element.innerHTML = '';\n",
              "          dataTable['output_type'] = 'display_data';\n",
              "          await google.colab.output.renderOutput(dataTable, element);\n",
              "          const docLink = document.createElement('div');\n",
              "          docLink.innerHTML = docLinkHtml;\n",
              "          element.appendChild(docLink);\n",
              "        }\n",
              "      </script>\n",
              "    </div>\n",
              "  </div>\n",
              "  "
            ]
          },
          "metadata": {},
          "execution_count": 8
        }
      ],
      "source": [
        "#explore the df (tail)\n",
        "df.tail()"
      ]
    },
    {
      "cell_type": "code",
      "execution_count": null,
      "metadata": {
        "id": "beE-Y1De8CSd",
        "colab": {
          "base_uri": "https://localhost:8080/",
          "height": 300
        },
        "outputId": "e6bcd7a7-2434-4640-8bf5-3c46b42f0b50"
      },
      "outputs": [
        {
          "output_type": "execute_result",
          "data": {
            "text/plain": [
              "              4.3628       -0.29408         0.5876        0.36474  \\\n",
              "count  249999.000000  249999.000000  249999.000000  249999.000000   \n",
              "mean        0.000333       0.002645      -0.000444       0.000477   \n",
              "std         1.771681       0.558268       0.458699       0.249680   \n",
              "min        -1.558800      -3.854500      -1.890800      -1.448700   \n",
              "25%        -0.737595      -0.373990      -0.322840      -0.163645   \n",
              "50%        -0.711300       0.020400       0.004942      -0.001494   \n",
              "75%        -0.603040       0.399790       0.318205       0.162920   \n",
              "max         4.902500       2.116300       1.971900       1.458100   \n",
              "\n",
              "            -0.04359      -0.017989        0.20433      -0.064445  \n",
              "count  249999.000000  249999.000000  249999.000000  249999.000000  \n",
              "mean        0.003970       0.002180       0.011994       0.011494  \n",
              "std         0.232991       0.044221       0.511858       0.208031  \n",
              "min        -1.015800      -0.185540      -1.818500      -0.469280  \n",
              "25%        -0.142320      -0.026723      -0.346090      -0.164690  \n",
              "50%         0.022085       0.003997       0.004785      -0.007178  \n",
              "75%         0.170285       0.033428       0.356875       0.166590  \n",
              "max         0.679470       0.140020       2.245700       0.816050  "
            ],
            "text/html": [
              "\n",
              "  <div id=\"df-24450d0c-daf5-4096-9ec2-25e62a311c48\">\n",
              "    <div class=\"colab-df-container\">\n",
              "      <div>\n",
              "<style scoped>\n",
              "    .dataframe tbody tr th:only-of-type {\n",
              "        vertical-align: middle;\n",
              "    }\n",
              "\n",
              "    .dataframe tbody tr th {\n",
              "        vertical-align: top;\n",
              "    }\n",
              "\n",
              "    .dataframe thead th {\n",
              "        text-align: right;\n",
              "    }\n",
              "</style>\n",
              "<table border=\"1\" class=\"dataframe\">\n",
              "  <thead>\n",
              "    <tr style=\"text-align: right;\">\n",
              "      <th></th>\n",
              "      <th>4.3628</th>\n",
              "      <th>-0.29408</th>\n",
              "      <th>0.5876</th>\n",
              "      <th>0.36474</th>\n",
              "      <th>-0.04359</th>\n",
              "      <th>-0.017989</th>\n",
              "      <th>0.20433</th>\n",
              "      <th>-0.064445</th>\n",
              "    </tr>\n",
              "  </thead>\n",
              "  <tbody>\n",
              "    <tr>\n",
              "      <th>count</th>\n",
              "      <td>249999.000000</td>\n",
              "      <td>249999.000000</td>\n",
              "      <td>249999.000000</td>\n",
              "      <td>249999.000000</td>\n",
              "      <td>249999.000000</td>\n",
              "      <td>249999.000000</td>\n",
              "      <td>249999.000000</td>\n",
              "      <td>249999.000000</td>\n",
              "    </tr>\n",
              "    <tr>\n",
              "      <th>mean</th>\n",
              "      <td>0.000333</td>\n",
              "      <td>0.002645</td>\n",
              "      <td>-0.000444</td>\n",
              "      <td>0.000477</td>\n",
              "      <td>0.003970</td>\n",
              "      <td>0.002180</td>\n",
              "      <td>0.011994</td>\n",
              "      <td>0.011494</td>\n",
              "    </tr>\n",
              "    <tr>\n",
              "      <th>std</th>\n",
              "      <td>1.771681</td>\n",
              "      <td>0.558268</td>\n",
              "      <td>0.458699</td>\n",
              "      <td>0.249680</td>\n",
              "      <td>0.232991</td>\n",
              "      <td>0.044221</td>\n",
              "      <td>0.511858</td>\n",
              "      <td>0.208031</td>\n",
              "    </tr>\n",
              "    <tr>\n",
              "      <th>min</th>\n",
              "      <td>-1.558800</td>\n",
              "      <td>-3.854500</td>\n",
              "      <td>-1.890800</td>\n",
              "      <td>-1.448700</td>\n",
              "      <td>-1.015800</td>\n",
              "      <td>-0.185540</td>\n",
              "      <td>-1.818500</td>\n",
              "      <td>-0.469280</td>\n",
              "    </tr>\n",
              "    <tr>\n",
              "      <th>25%</th>\n",
              "      <td>-0.737595</td>\n",
              "      <td>-0.373990</td>\n",
              "      <td>-0.322840</td>\n",
              "      <td>-0.163645</td>\n",
              "      <td>-0.142320</td>\n",
              "      <td>-0.026723</td>\n",
              "      <td>-0.346090</td>\n",
              "      <td>-0.164690</td>\n",
              "    </tr>\n",
              "    <tr>\n",
              "      <th>50%</th>\n",
              "      <td>-0.711300</td>\n",
              "      <td>0.020400</td>\n",
              "      <td>0.004942</td>\n",
              "      <td>-0.001494</td>\n",
              "      <td>0.022085</td>\n",
              "      <td>0.003997</td>\n",
              "      <td>0.004785</td>\n",
              "      <td>-0.007178</td>\n",
              "    </tr>\n",
              "    <tr>\n",
              "      <th>75%</th>\n",
              "      <td>-0.603040</td>\n",
              "      <td>0.399790</td>\n",
              "      <td>0.318205</td>\n",
              "      <td>0.162920</td>\n",
              "      <td>0.170285</td>\n",
              "      <td>0.033428</td>\n",
              "      <td>0.356875</td>\n",
              "      <td>0.166590</td>\n",
              "    </tr>\n",
              "    <tr>\n",
              "      <th>max</th>\n",
              "      <td>4.902500</td>\n",
              "      <td>2.116300</td>\n",
              "      <td>1.971900</td>\n",
              "      <td>1.458100</td>\n",
              "      <td>0.679470</td>\n",
              "      <td>0.140020</td>\n",
              "      <td>2.245700</td>\n",
              "      <td>0.816050</td>\n",
              "    </tr>\n",
              "  </tbody>\n",
              "</table>\n",
              "</div>\n",
              "      <button class=\"colab-df-convert\" onclick=\"convertToInteractive('df-24450d0c-daf5-4096-9ec2-25e62a311c48')\"\n",
              "              title=\"Convert this dataframe to an interactive table.\"\n",
              "              style=\"display:none;\">\n",
              "        \n",
              "  <svg xmlns=\"http://www.w3.org/2000/svg\" height=\"24px\"viewBox=\"0 0 24 24\"\n",
              "       width=\"24px\">\n",
              "    <path d=\"M0 0h24v24H0V0z\" fill=\"none\"/>\n",
              "    <path d=\"M18.56 5.44l.94 2.06.94-2.06 2.06-.94-2.06-.94-.94-2.06-.94 2.06-2.06.94zm-11 1L8.5 8.5l.94-2.06 2.06-.94-2.06-.94L8.5 2.5l-.94 2.06-2.06.94zm10 10l.94 2.06.94-2.06 2.06-.94-2.06-.94-.94-2.06-.94 2.06-2.06.94z\"/><path d=\"M17.41 7.96l-1.37-1.37c-.4-.4-.92-.59-1.43-.59-.52 0-1.04.2-1.43.59L10.3 9.45l-7.72 7.72c-.78.78-.78 2.05 0 2.83L4 21.41c.39.39.9.59 1.41.59.51 0 1.02-.2 1.41-.59l7.78-7.78 2.81-2.81c.8-.78.8-2.07 0-2.86zM5.41 20L4 18.59l7.72-7.72 1.47 1.35L5.41 20z\"/>\n",
              "  </svg>\n",
              "      </button>\n",
              "      \n",
              "  <style>\n",
              "    .colab-df-container {\n",
              "      display:flex;\n",
              "      flex-wrap:wrap;\n",
              "      gap: 12px;\n",
              "    }\n",
              "\n",
              "    .colab-df-convert {\n",
              "      background-color: #E8F0FE;\n",
              "      border: none;\n",
              "      border-radius: 50%;\n",
              "      cursor: pointer;\n",
              "      display: none;\n",
              "      fill: #1967D2;\n",
              "      height: 32px;\n",
              "      padding: 0 0 0 0;\n",
              "      width: 32px;\n",
              "    }\n",
              "\n",
              "    .colab-df-convert:hover {\n",
              "      background-color: #E2EBFA;\n",
              "      box-shadow: 0px 1px 2px rgba(60, 64, 67, 0.3), 0px 1px 3px 1px rgba(60, 64, 67, 0.15);\n",
              "      fill: #174EA6;\n",
              "    }\n",
              "\n",
              "    [theme=dark] .colab-df-convert {\n",
              "      background-color: #3B4455;\n",
              "      fill: #D2E3FC;\n",
              "    }\n",
              "\n",
              "    [theme=dark] .colab-df-convert:hover {\n",
              "      background-color: #434B5C;\n",
              "      box-shadow: 0px 1px 3px 1px rgba(0, 0, 0, 0.15);\n",
              "      filter: drop-shadow(0px 1px 2px rgba(0, 0, 0, 0.3));\n",
              "      fill: #FFFFFF;\n",
              "    }\n",
              "  </style>\n",
              "\n",
              "      <script>\n",
              "        const buttonEl =\n",
              "          document.querySelector('#df-24450d0c-daf5-4096-9ec2-25e62a311c48 button.colab-df-convert');\n",
              "        buttonEl.style.display =\n",
              "          google.colab.kernel.accessAllowed ? 'block' : 'none';\n",
              "\n",
              "        async function convertToInteractive(key) {\n",
              "          const element = document.querySelector('#df-24450d0c-daf5-4096-9ec2-25e62a311c48');\n",
              "          const dataTable =\n",
              "            await google.colab.kernel.invokeFunction('convertToInteractive',\n",
              "                                                     [key], {});\n",
              "          if (!dataTable) return;\n",
              "\n",
              "          const docLinkHtml = 'Like what you see? Visit the ' +\n",
              "            '<a target=\"_blank\" href=https://colab.research.google.com/notebooks/data_table.ipynb>data table notebook</a>'\n",
              "            + ' to learn more about interactive tables.';\n",
              "          element.innerHTML = '';\n",
              "          dataTable['output_type'] = 'display_data';\n",
              "          await google.colab.output.renderOutput(dataTable, element);\n",
              "          const docLink = document.createElement('div');\n",
              "          docLink.innerHTML = docLinkHtml;\n",
              "          element.appendChild(docLink);\n",
              "        }\n",
              "      </script>\n",
              "    </div>\n",
              "  </div>\n",
              "  "
            ]
          },
          "metadata": {},
          "execution_count": 9
        }
      ],
      "source": [
        "df.describe()"
      ]
    },
    {
      "cell_type": "code",
      "execution_count": null,
      "metadata": {
        "id": "LAFbvKRh8HGP"
      },
      "outputs": [],
      "source": [
        "# adding column name to the respective columns\n",
        "df.columns =['Sensor 1', 'Sensor 2', 'Sensor 3', 'Sensor 4' , 'Sensor 5' , 'Sensor 6', 'Sensor 7','Sensor 8']"
      ]
    },
    {
      "cell_type": "code",
      "execution_count": null,
      "metadata": {
        "id": "8YXtRx0n-wfs",
        "colab": {
          "base_uri": "https://localhost:8080/",
          "height": 206
        },
        "outputId": "b4bb44c4-8977-40b1-f44f-826603528049"
      },
      "outputs": [
        {
          "output_type": "execute_result",
          "data": {
            "text/plain": [
              "   Sensor 1  Sensor 2  Sensor 3  Sensor 4  Sensor 5  Sensor 6  Sensor 7  \\\n",
              "0    4.3689 -0.043306  0.758920   0.26327 -0.021677 -0.013760  0.158450   \n",
              "1    4.3680 -0.091259  0.321000   0.21232 -0.028703 -0.017380  0.041075   \n",
              "2    4.3609  0.334780  0.853640   0.29093 -0.003662 -0.014460  0.168000   \n",
              "3    4.3743 -0.240380  0.092714   0.16681 -0.010438 -0.016064  0.119400   \n",
              "4    4.3553  0.357450  0.795320   0.13932  0.019099 -0.011591  0.167160   \n",
              "\n",
              "   Sensor 8  \n",
              "0  -0.00584  \n",
              "1   0.15374  \n",
              "2  -0.21415  \n",
              "3   0.29943  \n",
              "4  -0.30605  "
            ],
            "text/html": [
              "\n",
              "  <div id=\"df-fa71b6b5-d81a-4c1c-9c49-54b4049a8266\">\n",
              "    <div class=\"colab-df-container\">\n",
              "      <div>\n",
              "<style scoped>\n",
              "    .dataframe tbody tr th:only-of-type {\n",
              "        vertical-align: middle;\n",
              "    }\n",
              "\n",
              "    .dataframe tbody tr th {\n",
              "        vertical-align: top;\n",
              "    }\n",
              "\n",
              "    .dataframe thead th {\n",
              "        text-align: right;\n",
              "    }\n",
              "</style>\n",
              "<table border=\"1\" class=\"dataframe\">\n",
              "  <thead>\n",
              "    <tr style=\"text-align: right;\">\n",
              "      <th></th>\n",
              "      <th>Sensor 1</th>\n",
              "      <th>Sensor 2</th>\n",
              "      <th>Sensor 3</th>\n",
              "      <th>Sensor 4</th>\n",
              "      <th>Sensor 5</th>\n",
              "      <th>Sensor 6</th>\n",
              "      <th>Sensor 7</th>\n",
              "      <th>Sensor 8</th>\n",
              "    </tr>\n",
              "  </thead>\n",
              "  <tbody>\n",
              "    <tr>\n",
              "      <th>0</th>\n",
              "      <td>4.3689</td>\n",
              "      <td>-0.043306</td>\n",
              "      <td>0.758920</td>\n",
              "      <td>0.26327</td>\n",
              "      <td>-0.021677</td>\n",
              "      <td>-0.013760</td>\n",
              "      <td>0.158450</td>\n",
              "      <td>-0.00584</td>\n",
              "    </tr>\n",
              "    <tr>\n",
              "      <th>1</th>\n",
              "      <td>4.3680</td>\n",
              "      <td>-0.091259</td>\n",
              "      <td>0.321000</td>\n",
              "      <td>0.21232</td>\n",
              "      <td>-0.028703</td>\n",
              "      <td>-0.017380</td>\n",
              "      <td>0.041075</td>\n",
              "      <td>0.15374</td>\n",
              "    </tr>\n",
              "    <tr>\n",
              "      <th>2</th>\n",
              "      <td>4.3609</td>\n",
              "      <td>0.334780</td>\n",
              "      <td>0.853640</td>\n",
              "      <td>0.29093</td>\n",
              "      <td>-0.003662</td>\n",
              "      <td>-0.014460</td>\n",
              "      <td>0.168000</td>\n",
              "      <td>-0.21415</td>\n",
              "    </tr>\n",
              "    <tr>\n",
              "      <th>3</th>\n",
              "      <td>4.3743</td>\n",
              "      <td>-0.240380</td>\n",
              "      <td>0.092714</td>\n",
              "      <td>0.16681</td>\n",
              "      <td>-0.010438</td>\n",
              "      <td>-0.016064</td>\n",
              "      <td>0.119400</td>\n",
              "      <td>0.29943</td>\n",
              "    </tr>\n",
              "    <tr>\n",
              "      <th>4</th>\n",
              "      <td>4.3553</td>\n",
              "      <td>0.357450</td>\n",
              "      <td>0.795320</td>\n",
              "      <td>0.13932</td>\n",
              "      <td>0.019099</td>\n",
              "      <td>-0.011591</td>\n",
              "      <td>0.167160</td>\n",
              "      <td>-0.30605</td>\n",
              "    </tr>\n",
              "  </tbody>\n",
              "</table>\n",
              "</div>\n",
              "      <button class=\"colab-df-convert\" onclick=\"convertToInteractive('df-fa71b6b5-d81a-4c1c-9c49-54b4049a8266')\"\n",
              "              title=\"Convert this dataframe to an interactive table.\"\n",
              "              style=\"display:none;\">\n",
              "        \n",
              "  <svg xmlns=\"http://www.w3.org/2000/svg\" height=\"24px\"viewBox=\"0 0 24 24\"\n",
              "       width=\"24px\">\n",
              "    <path d=\"M0 0h24v24H0V0z\" fill=\"none\"/>\n",
              "    <path d=\"M18.56 5.44l.94 2.06.94-2.06 2.06-.94-2.06-.94-.94-2.06-.94 2.06-2.06.94zm-11 1L8.5 8.5l.94-2.06 2.06-.94-2.06-.94L8.5 2.5l-.94 2.06-2.06.94zm10 10l.94 2.06.94-2.06 2.06-.94-2.06-.94-.94-2.06-.94 2.06-2.06.94z\"/><path d=\"M17.41 7.96l-1.37-1.37c-.4-.4-.92-.59-1.43-.59-.52 0-1.04.2-1.43.59L10.3 9.45l-7.72 7.72c-.78.78-.78 2.05 0 2.83L4 21.41c.39.39.9.59 1.41.59.51 0 1.02-.2 1.41-.59l7.78-7.78 2.81-2.81c.8-.78.8-2.07 0-2.86zM5.41 20L4 18.59l7.72-7.72 1.47 1.35L5.41 20z\"/>\n",
              "  </svg>\n",
              "      </button>\n",
              "      \n",
              "  <style>\n",
              "    .colab-df-container {\n",
              "      display:flex;\n",
              "      flex-wrap:wrap;\n",
              "      gap: 12px;\n",
              "    }\n",
              "\n",
              "    .colab-df-convert {\n",
              "      background-color: #E8F0FE;\n",
              "      border: none;\n",
              "      border-radius: 50%;\n",
              "      cursor: pointer;\n",
              "      display: none;\n",
              "      fill: #1967D2;\n",
              "      height: 32px;\n",
              "      padding: 0 0 0 0;\n",
              "      width: 32px;\n",
              "    }\n",
              "\n",
              "    .colab-df-convert:hover {\n",
              "      background-color: #E2EBFA;\n",
              "      box-shadow: 0px 1px 2px rgba(60, 64, 67, 0.3), 0px 1px 3px 1px rgba(60, 64, 67, 0.15);\n",
              "      fill: #174EA6;\n",
              "    }\n",
              "\n",
              "    [theme=dark] .colab-df-convert {\n",
              "      background-color: #3B4455;\n",
              "      fill: #D2E3FC;\n",
              "    }\n",
              "\n",
              "    [theme=dark] .colab-df-convert:hover {\n",
              "      background-color: #434B5C;\n",
              "      box-shadow: 0px 1px 3px 1px rgba(0, 0, 0, 0.15);\n",
              "      filter: drop-shadow(0px 1px 2px rgba(0, 0, 0, 0.3));\n",
              "      fill: #FFFFFF;\n",
              "    }\n",
              "  </style>\n",
              "\n",
              "      <script>\n",
              "        const buttonEl =\n",
              "          document.querySelector('#df-fa71b6b5-d81a-4c1c-9c49-54b4049a8266 button.colab-df-convert');\n",
              "        buttonEl.style.display =\n",
              "          google.colab.kernel.accessAllowed ? 'block' : 'none';\n",
              "\n",
              "        async function convertToInteractive(key) {\n",
              "          const element = document.querySelector('#df-fa71b6b5-d81a-4c1c-9c49-54b4049a8266');\n",
              "          const dataTable =\n",
              "            await google.colab.kernel.invokeFunction('convertToInteractive',\n",
              "                                                     [key], {});\n",
              "          if (!dataTable) return;\n",
              "\n",
              "          const docLinkHtml = 'Like what you see? Visit the ' +\n",
              "            '<a target=\"_blank\" href=https://colab.research.google.com/notebooks/data_table.ipynb>data table notebook</a>'\n",
              "            + ' to learn more about interactive tables.';\n",
              "          element.innerHTML = '';\n",
              "          dataTable['output_type'] = 'display_data';\n",
              "          await google.colab.output.renderOutput(dataTable, element);\n",
              "          const docLink = document.createElement('div');\n",
              "          docLink.innerHTML = docLinkHtml;\n",
              "          element.appendChild(docLink);\n",
              "        }\n",
              "      </script>\n",
              "    </div>\n",
              "  </div>\n",
              "  "
            ]
          },
          "metadata": {},
          "execution_count": 11
        }
      ],
      "source": [
        "#reexploring the dataframe\n",
        "df.head()"
      ]
    },
    {
      "cell_type": "code",
      "execution_count": null,
      "metadata": {
        "id": "FC_MB8KV-16V",
        "colab": {
          "base_uri": "https://localhost:8080/",
          "height": 300
        },
        "outputId": "28c4aae1-3edb-4fef-8d73-0fb46bc78130"
      },
      "outputs": [
        {
          "output_type": "execute_result",
          "data": {
            "text/plain": [
              "            Sensor 1       Sensor 2       Sensor 3       Sensor 4  \\\n",
              "count  249999.000000  249999.000000  249999.000000  249999.000000   \n",
              "mean        0.000333       0.002645      -0.000444       0.000477   \n",
              "std         1.771681       0.558268       0.458699       0.249680   \n",
              "min        -1.558800      -3.854500      -1.890800      -1.448700   \n",
              "25%        -0.737595      -0.373990      -0.322840      -0.163645   \n",
              "50%        -0.711300       0.020400       0.004942      -0.001494   \n",
              "75%        -0.603040       0.399790       0.318205       0.162920   \n",
              "max         4.902500       2.116300       1.971900       1.458100   \n",
              "\n",
              "            Sensor 5       Sensor 6       Sensor 7       Sensor 8  \n",
              "count  249999.000000  249999.000000  249999.000000  249999.000000  \n",
              "mean        0.003970       0.002180       0.011994       0.011494  \n",
              "std         0.232991       0.044221       0.511858       0.208031  \n",
              "min        -1.015800      -0.185540      -1.818500      -0.469280  \n",
              "25%        -0.142320      -0.026723      -0.346090      -0.164690  \n",
              "50%         0.022085       0.003997       0.004785      -0.007178  \n",
              "75%         0.170285       0.033428       0.356875       0.166590  \n",
              "max         0.679470       0.140020       2.245700       0.816050  "
            ],
            "text/html": [
              "\n",
              "  <div id=\"df-d1609464-306c-4f90-b209-0b2078e2b617\">\n",
              "    <div class=\"colab-df-container\">\n",
              "      <div>\n",
              "<style scoped>\n",
              "    .dataframe tbody tr th:only-of-type {\n",
              "        vertical-align: middle;\n",
              "    }\n",
              "\n",
              "    .dataframe tbody tr th {\n",
              "        vertical-align: top;\n",
              "    }\n",
              "\n",
              "    .dataframe thead th {\n",
              "        text-align: right;\n",
              "    }\n",
              "</style>\n",
              "<table border=\"1\" class=\"dataframe\">\n",
              "  <thead>\n",
              "    <tr style=\"text-align: right;\">\n",
              "      <th></th>\n",
              "      <th>Sensor 1</th>\n",
              "      <th>Sensor 2</th>\n",
              "      <th>Sensor 3</th>\n",
              "      <th>Sensor 4</th>\n",
              "      <th>Sensor 5</th>\n",
              "      <th>Sensor 6</th>\n",
              "      <th>Sensor 7</th>\n",
              "      <th>Sensor 8</th>\n",
              "    </tr>\n",
              "  </thead>\n",
              "  <tbody>\n",
              "    <tr>\n",
              "      <th>count</th>\n",
              "      <td>249999.000000</td>\n",
              "      <td>249999.000000</td>\n",
              "      <td>249999.000000</td>\n",
              "      <td>249999.000000</td>\n",
              "      <td>249999.000000</td>\n",
              "      <td>249999.000000</td>\n",
              "      <td>249999.000000</td>\n",
              "      <td>249999.000000</td>\n",
              "    </tr>\n",
              "    <tr>\n",
              "      <th>mean</th>\n",
              "      <td>0.000333</td>\n",
              "      <td>0.002645</td>\n",
              "      <td>-0.000444</td>\n",
              "      <td>0.000477</td>\n",
              "      <td>0.003970</td>\n",
              "      <td>0.002180</td>\n",
              "      <td>0.011994</td>\n",
              "      <td>0.011494</td>\n",
              "    </tr>\n",
              "    <tr>\n",
              "      <th>std</th>\n",
              "      <td>1.771681</td>\n",
              "      <td>0.558268</td>\n",
              "      <td>0.458699</td>\n",
              "      <td>0.249680</td>\n",
              "      <td>0.232991</td>\n",
              "      <td>0.044221</td>\n",
              "      <td>0.511858</td>\n",
              "      <td>0.208031</td>\n",
              "    </tr>\n",
              "    <tr>\n",
              "      <th>min</th>\n",
              "      <td>-1.558800</td>\n",
              "      <td>-3.854500</td>\n",
              "      <td>-1.890800</td>\n",
              "      <td>-1.448700</td>\n",
              "      <td>-1.015800</td>\n",
              "      <td>-0.185540</td>\n",
              "      <td>-1.818500</td>\n",
              "      <td>-0.469280</td>\n",
              "    </tr>\n",
              "    <tr>\n",
              "      <th>25%</th>\n",
              "      <td>-0.737595</td>\n",
              "      <td>-0.373990</td>\n",
              "      <td>-0.322840</td>\n",
              "      <td>-0.163645</td>\n",
              "      <td>-0.142320</td>\n",
              "      <td>-0.026723</td>\n",
              "      <td>-0.346090</td>\n",
              "      <td>-0.164690</td>\n",
              "    </tr>\n",
              "    <tr>\n",
              "      <th>50%</th>\n",
              "      <td>-0.711300</td>\n",
              "      <td>0.020400</td>\n",
              "      <td>0.004942</td>\n",
              "      <td>-0.001494</td>\n",
              "      <td>0.022085</td>\n",
              "      <td>0.003997</td>\n",
              "      <td>0.004785</td>\n",
              "      <td>-0.007178</td>\n",
              "    </tr>\n",
              "    <tr>\n",
              "      <th>75%</th>\n",
              "      <td>-0.603040</td>\n",
              "      <td>0.399790</td>\n",
              "      <td>0.318205</td>\n",
              "      <td>0.162920</td>\n",
              "      <td>0.170285</td>\n",
              "      <td>0.033428</td>\n",
              "      <td>0.356875</td>\n",
              "      <td>0.166590</td>\n",
              "    </tr>\n",
              "    <tr>\n",
              "      <th>max</th>\n",
              "      <td>4.902500</td>\n",
              "      <td>2.116300</td>\n",
              "      <td>1.971900</td>\n",
              "      <td>1.458100</td>\n",
              "      <td>0.679470</td>\n",
              "      <td>0.140020</td>\n",
              "      <td>2.245700</td>\n",
              "      <td>0.816050</td>\n",
              "    </tr>\n",
              "  </tbody>\n",
              "</table>\n",
              "</div>\n",
              "      <button class=\"colab-df-convert\" onclick=\"convertToInteractive('df-d1609464-306c-4f90-b209-0b2078e2b617')\"\n",
              "              title=\"Convert this dataframe to an interactive table.\"\n",
              "              style=\"display:none;\">\n",
              "        \n",
              "  <svg xmlns=\"http://www.w3.org/2000/svg\" height=\"24px\"viewBox=\"0 0 24 24\"\n",
              "       width=\"24px\">\n",
              "    <path d=\"M0 0h24v24H0V0z\" fill=\"none\"/>\n",
              "    <path d=\"M18.56 5.44l.94 2.06.94-2.06 2.06-.94-2.06-.94-.94-2.06-.94 2.06-2.06.94zm-11 1L8.5 8.5l.94-2.06 2.06-.94-2.06-.94L8.5 2.5l-.94 2.06-2.06.94zm10 10l.94 2.06.94-2.06 2.06-.94-2.06-.94-.94-2.06-.94 2.06-2.06.94z\"/><path d=\"M17.41 7.96l-1.37-1.37c-.4-.4-.92-.59-1.43-.59-.52 0-1.04.2-1.43.59L10.3 9.45l-7.72 7.72c-.78.78-.78 2.05 0 2.83L4 21.41c.39.39.9.59 1.41.59.51 0 1.02-.2 1.41-.59l7.78-7.78 2.81-2.81c.8-.78.8-2.07 0-2.86zM5.41 20L4 18.59l7.72-7.72 1.47 1.35L5.41 20z\"/>\n",
              "  </svg>\n",
              "      </button>\n",
              "      \n",
              "  <style>\n",
              "    .colab-df-container {\n",
              "      display:flex;\n",
              "      flex-wrap:wrap;\n",
              "      gap: 12px;\n",
              "    }\n",
              "\n",
              "    .colab-df-convert {\n",
              "      background-color: #E8F0FE;\n",
              "      border: none;\n",
              "      border-radius: 50%;\n",
              "      cursor: pointer;\n",
              "      display: none;\n",
              "      fill: #1967D2;\n",
              "      height: 32px;\n",
              "      padding: 0 0 0 0;\n",
              "      width: 32px;\n",
              "    }\n",
              "\n",
              "    .colab-df-convert:hover {\n",
              "      background-color: #E2EBFA;\n",
              "      box-shadow: 0px 1px 2px rgba(60, 64, 67, 0.3), 0px 1px 3px 1px rgba(60, 64, 67, 0.15);\n",
              "      fill: #174EA6;\n",
              "    }\n",
              "\n",
              "    [theme=dark] .colab-df-convert {\n",
              "      background-color: #3B4455;\n",
              "      fill: #D2E3FC;\n",
              "    }\n",
              "\n",
              "    [theme=dark] .colab-df-convert:hover {\n",
              "      background-color: #434B5C;\n",
              "      box-shadow: 0px 1px 3px 1px rgba(0, 0, 0, 0.15);\n",
              "      filter: drop-shadow(0px 1px 2px rgba(0, 0, 0, 0.3));\n",
              "      fill: #FFFFFF;\n",
              "    }\n",
              "  </style>\n",
              "\n",
              "      <script>\n",
              "        const buttonEl =\n",
              "          document.querySelector('#df-d1609464-306c-4f90-b209-0b2078e2b617 button.colab-df-convert');\n",
              "        buttonEl.style.display =\n",
              "          google.colab.kernel.accessAllowed ? 'block' : 'none';\n",
              "\n",
              "        async function convertToInteractive(key) {\n",
              "          const element = document.querySelector('#df-d1609464-306c-4f90-b209-0b2078e2b617');\n",
              "          const dataTable =\n",
              "            await google.colab.kernel.invokeFunction('convertToInteractive',\n",
              "                                                     [key], {});\n",
              "          if (!dataTable) return;\n",
              "\n",
              "          const docLinkHtml = 'Like what you see? Visit the ' +\n",
              "            '<a target=\"_blank\" href=https://colab.research.google.com/notebooks/data_table.ipynb>data table notebook</a>'\n",
              "            + ' to learn more about interactive tables.';\n",
              "          element.innerHTML = '';\n",
              "          dataTable['output_type'] = 'display_data';\n",
              "          await google.colab.output.renderOutput(dataTable, element);\n",
              "          const docLink = document.createElement('div');\n",
              "          docLink.innerHTML = docLinkHtml;\n",
              "          element.appendChild(docLink);\n",
              "        }\n",
              "      </script>\n",
              "    </div>\n",
              "  </div>\n",
              "  "
            ]
          },
          "metadata": {},
          "execution_count": 12
        }
      ],
      "source": [
        "df.describe()"
      ]
    },
    {
      "cell_type": "code",
      "execution_count": null,
      "metadata": {
        "id": "X0cM-nFE_D29",
        "colab": {
          "base_uri": "https://localhost:8080/"
        },
        "outputId": "4e4f7f06-759c-481c-8001-3bda8e05eecb"
      },
      "outputs": [
        {
          "output_type": "execute_result",
          "data": {
            "text/plain": [
              "Sensor 1    0\n",
              "Sensor 2    0\n",
              "Sensor 3    0\n",
              "Sensor 4    0\n",
              "Sensor 5    0\n",
              "Sensor 6    0\n",
              "Sensor 7    0\n",
              "Sensor 8    0\n",
              "dtype: int64"
            ]
          },
          "metadata": {},
          "execution_count": 13
        }
      ],
      "source": [
        "#checking for null values in the dataframe\n",
        "df.isnull().sum()"
      ]
    },
    {
      "cell_type": "code",
      "execution_count": null,
      "metadata": {
        "id": "PJqPJxGl_TaC"
      },
      "outputs": [],
      "source": [
        "#checking the distribution of columns in the dataset\n",
        "#import libraries\n",
        "import matplotlib.pyplot as plt\n",
        "import seaborn as sns\n",
        "sns.set()\n"
      ]
    },
    {
      "cell_type": "code",
      "execution_count": null,
      "metadata": {
        "id": "BDo4u3wzWLGA",
        "colab": {
          "base_uri": "https://localhost:8080/",
          "height": 936
        },
        "outputId": "0c832836-a7cf-407f-a58c-1f9636fdd6f7"
      },
      "outputs": [
        {
          "output_type": "display_data",
          "data": {
            "text/plain": [
              "<Figure size 1296x1152 with 9 Axes>"
            ],
            "image/png": "[encoded data removed]"
          },
          "metadata": {}
        }
      ],
      "source": [
        "df.hist(bins=50, figsize=(18,16))\n",
        "plt.show()"
      ]
    },
    {
      "cell_type": "code",
      "execution_count": null,
      "metadata": {
        "id": "ByD_ElGpkAiN",
        "colab": {
          "base_uri": "https://localhost:8080/",
          "height": 268
        },
        "outputId": "631e1052-dc1f-46b9-b59c-cbd485e0dea0"
      },
      "outputs": [
        {
          "output_type": "display_data",
          "data": {
            "text/plain": [
              "<Figure size 432x288 with 1 Axes>"
            ],
            "image/png": "[encoded data removed]"
          },
          "metadata": {}
        }
      ],
      "source": [
        "#line plot for the sensors\n",
        "sns.lineplot(data=df)\n",
        "plt.show()"
      ]
    },
    {
      "cell_type": "code",
      "execution_count": null,
      "metadata": {
        "id": "cEwA9BNXJhTS",
        "colab": {
          "base_uri": "https://localhost:8080/",
          "height": 271
        },
        "outputId": "85afafba-cf63-48c9-eabc-4410665d808b"
      },
      "outputs": [
        {
          "output_type": "display_data",
          "data": {
            "text/plain": [
              "<Figure size 432x288 with 7 Axes>"
            ],
            "image/png": "[encoded data removed]"
          },
          "metadata": {}
        }
      ],
      "source": [
        "#plotting each series as a subplot\n",
        "values = df.values\n",
        "# specify columns to plot\n",
        "groups = [0, 1, 2, 3, 5, 6, 7]\n",
        "i = 1\n",
        "# plot each column\n",
        "plt.figure()\n",
        "for group in groups:\n",
        "\tplt.subplot(len(groups), 1, i)\n",
        "\tplt.plot(values[:, group])\n",
        "\tplt.title(df.columns[group], y=0.5, loc='right')\n",
        "\ti += 1\n",
        "plt.show()"
      ]
    },
    {
      "cell_type": "code",
      "execution_count": null,
      "metadata": {
        "id": "OwdPPAG0g8eM"
      },
      "outputs": [],
      "source": [
        "#detecting outliers using LOR algorithm\n",
        "#import the algorithm\n",
        "#import numpy as np\n",
        "#from sklearn.neighbors import LocalOutlierFactor#initialise the algorithm\n",
        "#lof = LocalOutlierFactor(n_neighbors = 20)\n",
        "#fit it to the training dat\n",
        "#y_pred = lof.fit_predict(df)\n",
        "#print(y_pred)"
      ]
    },
    {
      "cell_type": "code",
      "execution_count": null,
      "metadata": {
        "id": "3CaP9LLRDxOs"
      },
      "outputs": [],
      "source": [
        "#scaling the data\n",
        "#create a copy of the dataset to be scaled\n",
        "\n",
        "from sklearn.preprocessing import MinMaxScaler\n",
        "df2=df.copy()\n",
        "#scalers={}\n",
        "#for i in df2.columns:\n",
        "    #scaler = MinMaxScaler(feature_range=(-1,1))\n",
        "    #s_s=scaler.fit_transform(df2[i])\n",
        "    #s_s = scaler.fit_transform(df2[i].values.reshape(-1,1))"
      ]
    },
    {
      "cell_type": "code",
      "source": [
        "#scaling the data\n",
        "#create a copy of the dataset to be scaled\n",
        "\n",
        "#from sklearn.preprocessing import MinMaxScaler\n",
        "#df2=df.copy()\n",
        "#scalers={}\n",
        "#for i in df2.columns:\n",
        " #   scaler = MinMaxScaler(feature_range=(-1,1))\n",
        " #   s_s = scaler.fit_transform(df2[i].values.reshape(-1,1))\n",
        " #   s_s=np.reshape(s_s,len(s_s))\n",
        " #   scalers['scaler_'+ i] = scaler\n",
        "#    df2[i]=s_s"
      ],
      "metadata": {
        "id": "haTuqujP1Z6N"
      },
      "execution_count": null,
      "outputs": []
    },
    {
      "cell_type": "code",
      "execution_count": null,
      "metadata": {
        "id": "UxGnEnPpErbR",
        "colab": {
          "base_uri": "https://localhost:8080/",
          "height": 300
        },
        "outputId": "9015aa68-0780-4677-c9e0-db30254ebf8a"
      },
      "outputs": [
        {
          "output_type": "execute_result",
          "data": {
            "text/plain": [
              "            Sensor 1       Sensor 2       Sensor 3       Sensor 4  \\\n",
              "count  249999.000000  249999.000000  249999.000000  249999.000000   \n",
              "mean        0.000333       0.002645      -0.000444       0.000477   \n",
              "std         1.771681       0.558268       0.458699       0.249680   \n",
              "min        -1.558800      -3.854500      -1.890800      -1.448700   \n",
              "25%        -0.737595      -0.373990      -0.322840      -0.163645   \n",
              "50%        -0.711300       0.020400       0.004942      -0.001494   \n",
              "75%        -0.603040       0.399790       0.318205       0.162920   \n",
              "max         4.902500       2.116300       1.971900       1.458100   \n",
              "\n",
              "            Sensor 5       Sensor 6       Sensor 7       Sensor 8  \n",
              "count  249999.000000  249999.000000  249999.000000  249999.000000  \n",
              "mean        0.003970       0.002180       0.011994       0.011494  \n",
              "std         0.232991       0.044221       0.511858       0.208031  \n",
              "min        -1.015800      -0.185540      -1.818500      -0.469280  \n",
              "25%        -0.142320      -0.026723      -0.346090      -0.164690  \n",
              "50%         0.022085       0.003997       0.004785      -0.007178  \n",
              "75%         0.170285       0.033428       0.356875       0.166590  \n",
              "max         0.679470       0.140020       2.245700       0.816050  "
            ],
            "text/html": [
              "\n",
              "  <div id=\"df-0293f2e2-7b1a-4f87-82c0-962529407a3a\">\n",
              "    <div class=\"colab-df-container\">\n",
              "      <div>\n",
              "<style scoped>\n",
              "    .dataframe tbody tr th:only-of-type {\n",
              "        vertical-align: middle;\n",
              "    }\n",
              "\n",
              "    .dataframe tbody tr th {\n",
              "        vertical-align: top;\n",
              "    }\n",
              "\n",
              "    .dataframe thead th {\n",
              "        text-align: right;\n",
              "    }\n",
              "</style>\n",
              "<table border=\"1\" class=\"dataframe\">\n",
              "  <thead>\n",
              "    <tr style=\"text-align: right;\">\n",
              "      <th></th>\n",
              "      <th>Sensor 1</th>\n",
              "      <th>Sensor 2</th>\n",
              "      <th>Sensor 3</th>\n",
              "      <th>Sensor 4</th>\n",
              "      <th>Sensor 5</th>\n",
              "      <th>Sensor 6</th>\n",
              "      <th>Sensor 7</th>\n",
              "      <th>Sensor 8</th>\n",
              "    </tr>\n",
              "  </thead>\n",
              "  <tbody>\n",
              "    <tr>\n",
              "      <th>count</th>\n",
              "      <td>249999.000000</td>\n",
              "      <td>249999.000000</td>\n",
              "      <td>249999.000000</td>\n",
              "      <td>249999.000000</td>\n",
              "      <td>249999.000000</td>\n",
              "      <td>249999.000000</td>\n",
              "      <td>249999.000000</td>\n",
              "      <td>249999.000000</td>\n",
              "    </tr>\n",
              "    <tr>\n",
              "      <th>mean</th>\n",
              "      <td>0.000333</td>\n",
              "      <td>0.002645</td>\n",
              "      <td>-0.000444</td>\n",
              "      <td>0.000477</td>\n",
              "      <td>0.003970</td>\n",
              "      <td>0.002180</td>\n",
              "      <td>0.011994</td>\n",
              "      <td>0.011494</td>\n",
              "    </tr>\n",
              "    <tr>\n",
              "      <th>std</th>\n",
              "      <td>1.771681</td>\n",
              "      <td>0.558268</td>\n",
              "      <td>0.458699</td>\n",
              "      <td>0.249680</td>\n",
              "      <td>0.232991</td>\n",
              "      <td>0.044221</td>\n",
              "      <td>0.511858</td>\n",
              "      <td>0.208031</td>\n",
              "    </tr>\n",
              "    <tr>\n",
              "      <th>min</th>\n",
              "      <td>-1.558800</td>\n",
              "      <td>-3.854500</td>\n",
              "      <td>-1.890800</td>\n",
              "      <td>-1.448700</td>\n",
              "      <td>-1.015800</td>\n",
              "      <td>-0.185540</td>\n",
              "      <td>-1.818500</td>\n",
              "      <td>-0.469280</td>\n",
              "    </tr>\n",
              "    <tr>\n",
              "      <th>25%</th>\n",
              "      <td>-0.737595</td>\n",
              "      <td>-0.373990</td>\n",
              "      <td>-0.322840</td>\n",
              "      <td>-0.163645</td>\n",
              "      <td>-0.142320</td>\n",
              "      <td>-0.026723</td>\n",
              "      <td>-0.346090</td>\n",
              "      <td>-0.164690</td>\n",
              "    </tr>\n",
              "    <tr>\n",
              "      <th>50%</th>\n",
              "      <td>-0.711300</td>\n",
              "      <td>0.020400</td>\n",
              "      <td>0.004942</td>\n",
              "      <td>-0.001494</td>\n",
              "      <td>0.022085</td>\n",
              "      <td>0.003997</td>\n",
              "      <td>0.004785</td>\n",
              "      <td>-0.007178</td>\n",
              "    </tr>\n",
              "    <tr>\n",
              "      <th>75%</th>\n",
              "      <td>-0.603040</td>\n",
              "      <td>0.399790</td>\n",
              "      <td>0.318205</td>\n",
              "      <td>0.162920</td>\n",
              "      <td>0.170285</td>\n",
              "      <td>0.033428</td>\n",
              "      <td>0.356875</td>\n",
              "      <td>0.166590</td>\n",
              "    </tr>\n",
              "    <tr>\n",
              "      <th>max</th>\n",
              "      <td>4.902500</td>\n",
              "      <td>2.116300</td>\n",
              "      <td>1.971900</td>\n",
              "      <td>1.458100</td>\n",
              "      <td>0.679470</td>\n",
              "      <td>0.140020</td>\n",
              "      <td>2.245700</td>\n",
              "      <td>0.816050</td>\n",
              "    </tr>\n",
              "  </tbody>\n",
              "</table>\n",
              "</div>\n",
              "      <button class=\"colab-df-convert\" onclick=\"convertToInteractive('df-0293f2e2-7b1a-4f87-82c0-962529407a3a')\"\n",
              "              title=\"Convert this dataframe to an interactive table.\"\n",
              "              style=\"display:none;\">\n",
              "        \n",
              "  <svg xmlns=\"http://www.w3.org/2000/svg\" height=\"24px\"viewBox=\"0 0 24 24\"\n",
              "       width=\"24px\">\n",
              "    <path d=\"M0 0h24v24H0V0z\" fill=\"none\"/>\n",
              "    <path d=\"M18.56 5.44l.94 2.06.94-2.06 2.06-.94-2.06-.94-.94-2.06-.94 2.06-2.06.94zm-11 1L8.5 8.5l.94-2.06 2.06-.94-2.06-.94L8.5 2.5l-.94 2.06-2.06.94zm10 10l.94 2.06.94-2.06 2.06-.94-2.06-.94-.94-2.06-.94 2.06-2.06.94z\"/><path d=\"M17.41 7.96l-1.37-1.37c-.4-.4-.92-.59-1.43-.59-.52 0-1.04.2-1.43.59L10.3 9.45l-7.72 7.72c-.78.78-.78 2.05 0 2.83L4 21.41c.39.39.9.59 1.41.59.51 0 1.02-.2 1.41-.59l7.78-7.78 2.81-2.81c.8-.78.8-2.07 0-2.86zM5.41 20L4 18.59l7.72-7.72 1.47 1.35L5.41 20z\"/>\n",
              "  </svg>\n",
              "      </button>\n",
              "      \n",
              "  <style>\n",
              "    .colab-df-container {\n",
              "      display:flex;\n",
              "      flex-wrap:wrap;\n",
              "      gap: 12px;\n",
              "    }\n",
              "\n",
              "    .colab-df-convert {\n",
              "      background-color: #E8F0FE;\n",
              "      border: none;\n",
              "      border-radius: 50%;\n",
              "      cursor: pointer;\n",
              "      display: none;\n",
              "      fill: #1967D2;\n",
              "      height: 32px;\n",
              "      padding: 0 0 0 0;\n",
              "      width: 32px;\n",
              "    }\n",
              "\n",
              "    .colab-df-convert:hover {\n",
              "      background-color: #E2EBFA;\n",
              "      box-shadow: 0px 1px 2px rgba(60, 64, 67, 0.3), 0px 1px 3px 1px rgba(60, 64, 67, 0.15);\n",
              "      fill: #174EA6;\n",
              "    }\n",
              "\n",
              "    [theme=dark] .colab-df-convert {\n",
              "      background-color: #3B4455;\n",
              "      fill: #D2E3FC;\n",
              "    }\n",
              "\n",
              "    [theme=dark] .colab-df-convert:hover {\n",
              "      background-color: #434B5C;\n",
              "      box-shadow: 0px 1px 3px 1px rgba(0, 0, 0, 0.15);\n",
              "      filter: drop-shadow(0px 1px 2px rgba(0, 0, 0, 0.3));\n",
              "      fill: #FFFFFF;\n",
              "    }\n",
              "  </style>\n",
              "\n",
              "      <script>\n",
              "        const buttonEl =\n",
              "          document.querySelector('#df-0293f2e2-7b1a-4f87-82c0-962529407a3a button.colab-df-convert');\n",
              "        buttonEl.style.display =\n",
              "          google.colab.kernel.accessAllowed ? 'block' : 'none';\n",
              "\n",
              "        async function convertToInteractive(key) {\n",
              "          const element = document.querySelector('#df-0293f2e2-7b1a-4f87-82c0-962529407a3a');\n",
              "          const dataTable =\n",
              "            await google.colab.kernel.invokeFunction('convertToInteractive',\n",
              "                                                     [key], {});\n",
              "          if (!dataTable) return;\n",
              "\n",
              "          const docLinkHtml = 'Like what you see? Visit the ' +\n",
              "            '<a target=\"_blank\" href=https://colab.research.google.com/notebooks/data_table.ipynb>data table notebook</a>'\n",
              "            + ' to learn more about interactive tables.';\n",
              "          element.innerHTML = '';\n",
              "          dataTable['output_type'] = 'display_data';\n",
              "          await google.colab.output.renderOutput(dataTable, element);\n",
              "          const docLink = document.createElement('div');\n",
              "          docLink.innerHTML = docLinkHtml;\n",
              "          element.appendChild(docLink);\n",
              "        }\n",
              "      </script>\n",
              "    </div>\n",
              "  </div>\n",
              "  "
            ]
          },
          "metadata": {},
          "execution_count": 21
        }
      ],
      "source": [
        "df2.describe()"
      ]
    },
    {
      "cell_type": "code",
      "execution_count": null,
      "metadata": {
        "id": "VOlsTyUD-U4v",
        "colab": {
          "base_uri": "https://localhost:8080/",
          "height": 936
        },
        "outputId": "2a8bfa16-70ee-4bce-cdf9-1c5d4367d4c2"
      },
      "outputs": [
        {
          "output_type": "display_data",
          "data": {
            "text/plain": [
              "<Figure size 1296x1152 with 9 Axes>"
            ],
            "image/png": "[encoded data removed]"
          },
          "metadata": {}
        }
      ],
      "source": [
        "#plot the scaled data\n",
        "df2.hist(bins=50, figsize=(18,16))\n",
        "plt.show()"
      ]
    },
    {
      "cell_type": "code",
      "source": [
        "#creating a data structure with x timesteps and 1 output\n",
        "#initializing x and y train\n",
        "#x train has 8 features\n",
        "import numpy as np\n",
        "x1=[]\n",
        "x2=[]\n",
        "x3=[]\n",
        "x4=[]\n",
        "x5=[]\n",
        "x6=[]\n",
        "x7=[]\n",
        "x8=[]\n",
        "y_train=[]\n",
        "for i in range (10, 249999 ):\n",
        "  x1.append(df2.iloc[i-10:i,0])\n",
        "  x2.append(df2.iloc[i-10:i,1])\n",
        "  x3.append(df2.iloc[i-10:i,2])\n",
        "  x4.append(df2.iloc[i-10:i,3])\n",
        "  x5.append(df2.iloc[i-10:i,4])\n",
        "  x6.append(df2.iloc[i-10:i,5])\n",
        "  x7.append(df2.iloc[i-10:i,6])\n",
        "  x8.append(df2.iloc[i-10:i,7])\n",
        "  y_train.append(df2.iloc[i,7])\n",
        "#convert your input from  list to a numpy array\n",
        "x1, y_train=np.array(x1), np.array(y_train)\n",
        "x2=np.array(x2)\n",
        "x3=np.array(x3)\n",
        "x4=np.array(x4)\n",
        "x5=np.array(x5)\n",
        "x6=np.array(x6)\n",
        "x7=np.array(x7)\n",
        "x8=np.array(x8)"
      ],
      "metadata": {
        "id": "ckJTKhXQWKx3"
      },
      "execution_count": null,
      "outputs": []
    },
    {
      "cell_type": "code",
      "source": [
        "#getting the shape of y_train\n",
        "y_train.shape"
      ],
      "metadata": {
        "colab": {
          "base_uri": "https://localhost:8080/"
        },
        "id": "jgblNs0dxKKv",
        "outputId": "1691fb74-ec46-4815-d51c-a8d75581e708"
      },
      "execution_count": null,
      "outputs": [
        {
          "output_type": "execute_result",
          "data": {
            "text/plain": [
              "(249989,)"
            ]
          },
          "metadata": {},
          "execution_count": 24
        }
      ]
    },
    {
      "cell_type": "code",
      "source": [
        "#reshape y_train\n",
        "y_train=y_train.reshape (len(y_train),1)\n",
        "#checking new shape\n",
        "y_train.shape"
      ],
      "metadata": {
        "colab": {
          "base_uri": "https://localhost:8080/"
        },
        "id": "hCZ7G6aIH7o8",
        "outputId": "0a8f7a6e-c1ac-4e73-c522-f1a2d7eefd85"
      },
      "execution_count": null,
      "outputs": [
        {
          "output_type": "execute_result",
          "data": {
            "text/plain": [
              "(249989, 1)"
            ]
          },
          "metadata": {},
          "execution_count": 25
        }
      ]
    },
    {
      "cell_type": "code",
      "source": [
        "\n",
        "x8.shape"
      ],
      "metadata": {
        "colab": {
          "base_uri": "https://localhost:8080/"
        },
        "id": "FI-uLHtr1bTX",
        "outputId": "d07babd5-d488-4d00-8995-3f964227176f"
      },
      "execution_count": null,
      "outputs": [
        {
          "output_type": "execute_result",
          "data": {
            "text/plain": [
              "(249989, 10)"
            ]
          },
          "metadata": {},
          "execution_count": 26
        }
      ]
    },
    {
      "cell_type": "code",
      "source": [
        "#scale the arrays\n",
        "scaler = MinMaxScaler(feature_range=(-1,1))\n",
        "x1=scaler.fit_transform(x1)\n",
        "x2=scaler.fit_transform(x2)\n",
        "x3=scaler.fit_transform(x3)\n",
        "x4=scaler.fit_transform(x4)\n",
        "x5=scaler.fit_transform(x5)\n",
        "x6=scaler.fit_transform(x6)\n",
        "x7=scaler.fit_transform(x7)\n",
        "x8=scaler.fit_transform(x8)\n",
        "y_train=scaler.fit_transform(y_train)"
      ],
      "metadata": {
        "id": "mf75I4hWwMVI"
      },
      "execution_count": null,
      "outputs": []
    },
    {
      "cell_type": "code",
      "source": [
        "#stacking the scaled arrays\n",
        "x_train=np.stack([x1, x2, x3, x4, x5, x6, x7, x8], axis=2)"
      ],
      "metadata": {
        "id": "wxQi3AyTzNPf"
      },
      "execution_count": null,
      "outputs": []
    },
    {
      "cell_type": "code",
      "source": [
        "#check shape of x_train\n",
        "x_train.shape"
      ],
      "metadata": {
        "colab": {
          "base_uri": "https://localhost:8080/"
        },
        "id": "lo_gP7FezrNZ",
        "outputId": "249350cb-d895-49c0-c2d0-cacdfa91f73e"
      },
      "execution_count": null,
      "outputs": [
        {
          "output_type": "execute_result",
          "data": {
            "text/plain": [
              "(249989, 10, 8)"
            ]
          },
          "metadata": {},
          "execution_count": 29
        }
      ]
    },
    {
      "cell_type": "code",
      "source": [
        "# reshape input to be 3D [samples, timesteps, features]\n",
        "#x_train=np.reshape(x_train,(x_train.shape[0],1,x_train.shape[1]))\n",
        "\n",
        "#print(x_train.shape)"
      ],
      "metadata": {
        "id": "i47syGNyWLzT"
      },
      "execution_count": null,
      "outputs": []
    },
    {
      "cell_type": "code",
      "execution_count": null,
      "metadata": {
        "id": "PXsSLZBfVaYO"
      },
      "outputs": [],
      "source": [
        "\n",
        "from tensorflow import keras\n",
        "from keras.layers import LSTM, Dense, Dropout\n",
        "from keras import layers\n",
        "from keras.models import Sequential\n",
        "from keras.layers import RepeatVector\n",
        "from keras.layers import TimeDistributed"
      ]
    },
    {
      "cell_type": "code",
      "source": [
        "#designing the rnn (model 1)\n",
        "#initialize the lstm model\n",
        "#regressor=Sequential()\n",
        "#adding 4 layers\n",
        "##regressor.add(Dropout(0.2))\n",
        "#regressor.add(LSTM(units=50,return_sequences=True))\n",
        "#regressor.add(Dropout(0.2))\n",
        "#regressor.add(LSTM(units=50,return_sequences=True))\n",
        "#regressor.add(Dropout(0.2))\n",
        "#regressor.add(LSTM(units=50))\n",
        "##regressor.add(Dense(units=1))\n",
        "#compiling the RNN\n",
        "#regressor.compile(optimizer='adam', loss='mean_squared_error')\n",
        "\n",
        "\n"
      ],
      "metadata": {
        "id": "6FgPM7GGRgBk"
      },
      "execution_count": null,
      "outputs": []
    },
    {
      "cell_type": "code",
      "source": [
        "x_train.shape[2]"
      ],
      "metadata": {
        "colab": {
          "base_uri": "https://localhost:8080/"
        },
        "id": "0RTD5X6r6q1W",
        "outputId": "18350dcb-38a1-4b1d-ee2e-a20b22e12c67"
      },
      "execution_count": null,
      "outputs": [
        {
          "output_type": "execute_result",
          "data": {
            "text/plain": [
              "8"
            ]
          },
          "metadata": {},
          "execution_count": 33
        }
      ]
    },
    {
      "cell_type": "code",
      "source": [
        "#design the RNN (model 2)\n",
        "regressor=Sequential()\n",
        "#adding the layers\n",
        "regressor.add(LSTM(units=50,return_sequences=True,input_shape=(x_train.shape[1], x_train.shape[2])))\n",
        "regressor.add(Dropout(0.2))\n",
        "regressor.add(LSTM(units=50))\n",
        "regressor.add(Dropout(0.2))\n",
        "\n",
        "regressor.add(RepeatVector(x_train.shape[1]))\n",
        "\n",
        "regressor.add(LSTM(50, return_sequences=True))\n",
        "regressor.add(Dropout(rate=0.2))\n",
        "\n",
        "\n",
        "regressor.add(Dense(32, activation=\"tanh\"))\n",
        "regressor.add(Dropout(0.2))\n",
        "\n",
        "regressor.add(Dense(1, activation='sigmoid'))\n",
        "\n",
        "regressor.compile(optimizer='adam', loss='mae')\n",
        "regressor.summary()\n",
        "\n",
        "\n"
      ],
      "metadata": {
        "id": "aiBVy0Y32Ojt",
        "colab": {
          "base_uri": "https://localhost:8080/"
        },
        "outputId": "63fd7bf8-1277-489f-ce81-395660a127ee"
      },
      "execution_count": null,
      "outputs": [
        {
          "output_type": "stream",
          "name": "stdout",
          "text": [
            "Model: \"sequential\"\n",
            "_________________________________________________________________\n",
            " Layer (type)                Output Shape              Param #   \n",
            "=================================================================\n",
            " lstm (LSTM)                 (None, 10, 50)            11800     \n",
            "                                                                 \n",
            " dropout (Dropout)           (None, 10, 50)            0         \n",
            "                                                                 \n",
            " lstm_1 (LSTM)               (None, 50)                20200     \n",
            "                                                                 \n",
            " dropout_1 (Dropout)         (None, 50)                0         \n",
            "                                                                 \n",
            " repeat_vector (RepeatVector  (None, 10, 50)           0         \n",
            " )                                                               \n",
            "                                                                 \n",
            " lstm_2 (LSTM)               (None, 10, 50)            20200     \n",
            "                                                                 \n",
            " dropout_2 (Dropout)         (None, 10, 50)            0         \n",
            "                                                                 \n",
            " dense (Dense)               (None, 10, 32)            1632      \n",
            "                                                                 \n",
            " dropout_3 (Dropout)         (None, 10, 32)            0         \n",
            "                                                                 \n",
            " dense_1 (Dense)             (None, 10, 1)             33        \n",
            "                                                                 \n",
            "=================================================================\n",
            "Total params: 53,865\n",
            "Trainable params: 53,865\n",
            "Non-trainable params: 0\n",
            "_________________________________________________________________\n"
          ]
        }
      ]
    },
    {
      "cell_type": "code",
      "source": [
        "#Try another model 3\n",
        "#model = Sequential()\n",
        "#model.add(LSTM(128, input_shape=(x_train.shape[1], x_train.shape[2])))\n",
        "#model.add(Dropout(rate=0.2))\n",
        "\n",
        "#model.add(RepeatVector(x_train.shape[1]))\n",
        "\n",
        "#model.add(LSTM(128, return_sequences=True))\n",
        "#model.add(Dropout(rate=0.2))\n",
        "#model.add(TimeDistributed(Dense(x_train.shape[2])))\n",
        "#model.compile(optimizer='adam', loss='mae')\n",
        "#model.summary()"
      ],
      "metadata": {
        "id": "yOxiVqkdSS-u"
      },
      "execution_count": null,
      "outputs": []
    },
    {
      "cell_type": "code",
      "source": [
        "#model = Sequential()\n",
        "#model.add(LSTM(128, activation = 'tanh', input_shape=(x_train.shape[1], x_train.shape[2])))\n",
        "#model.add(Dropout(rate=0.2))\n",
        "#model.add(RepeatVector(x_train.shape[1]))\n",
        "#model.add(LSTM(128, activation = 'tanh', return_sequences=True))\n",
        "#model.add(Dropout(rate=0.2))\n",
        "#model.add(TimeDistributed(Dense(x_train.shape[2])))\n",
        "#model.compile(optimizer=keras.optimizers.Adam(learning_rate=0.001), loss=\"mean_squared_error\")\n",
        "#model.summary()"
      ],
      "metadata": {
        "id": "B-wa8euZ-s_F"
      },
      "execution_count": null,
      "outputs": []
    },
    {
      "cell_type": "code",
      "source": [
        "from keras.callbacks import ModelCheckpoint, EarlyStopping\n",
        "import os\n",
        "#filepath='model/{epoch:02d}-{loss:.4f}-{val_loss:.4f}-{mae: .4f}-{val_mae: .4f}.hdfs'\n",
        "checkpoint_path = \"training_1/cp.ckpt\"\n",
        "checkpoint_dir = os.path.dirname(checkpoint_path)\n",
        "callbacks=[EarlyStopping(monitor='val_loss', patience=50), ModelCheckpoint(filepath=checkpoint_path, monitor='loss', save_best_only=True, mode='min')]"
      ],
      "metadata": {
        "id": "Vj3h8I9x8nqY"
      },
      "execution_count": null,
      "outputs": []
    },
    {
      "cell_type": "code",
      "source": [
        "#Fitting the RNN to the training set\n",
        "history=regressor.fit(x_train, y_train, validation_split=0.2, callbacks=callbacks, epochs=25, batch_size=72, shuffle=False)"
      ],
      "metadata": {
        "colab": {
          "base_uri": "https://localhost:8080/"
        },
        "id": "8czjpveIWqnC",
        "outputId": "cb96b609-6640-4fde-c4b9-6fac434b3215"
      },
      "execution_count": null,
      "outputs": [
        {
          "output_type": "stream",
          "name": "stdout",
          "text": [
            "Epoch 1/25\n",
            "2778/2778 [==============================] - ETA: 0s - loss: 0.3485"
          ]
        },
        {
          "output_type": "stream",
          "name": "stderr",
          "text": [
            "WARNING:absl:Found untraced functions such as lstm_cell_layer_call_fn, lstm_cell_layer_call_and_return_conditional_losses, lstm_cell_1_layer_call_fn, lstm_cell_1_layer_call_and_return_conditional_losses, lstm_cell_2_layer_call_fn while saving (showing 5 of 6). These functions will not be directly callable after loading.\n"
          ]
        },
        {
          "output_type": "stream",
          "name": "stdout",
          "text": [
            "INFO:tensorflow:Assets written to: training_1/cp.ckpt/assets\n"
          ]
        },
        {
          "output_type": "stream",
          "name": "stderr",
          "text": [
            "INFO:tensorflow:Assets written to: training_1/cp.ckpt/assets\n",
            "WARNING:absl:<keras.layers.recurrent.LSTMCell object at 0x7fc3e46813d0> has the same name 'LSTMCell' as a built-in Keras object. Consider renaming <class 'keras.layers.recurrent.LSTMCell'> to avoid naming conflicts when loading with `tf.keras.models.load_model`. If renaming is not possible, pass the object in the `custom_objects` parameter of the load function.\n",
            "WARNING:absl:<keras.layers.recurrent.LSTMCell object at 0x7fc3cd4ed310> has the same name 'LSTMCell' as a built-in Keras object. Consider renaming <class 'keras.layers.recurrent.LSTMCell'> to avoid naming conflicts when loading with `tf.keras.models.load_model`. If renaming is not possible, pass the object in the `custom_objects` parameter of the load function.\n",
            "WARNING:absl:<keras.layers.recurrent.LSTMCell object at 0x7fc35fb1b450> has the same name 'LSTMCell' as a built-in Keras object. Consider renaming <class 'keras.layers.recurrent.LSTMCell'> to avoid naming conflicts when loading with `tf.keras.models.load_model`. If renaming is not possible, pass the object in the `custom_objects` parameter of the load function.\n"
          ]
        },
        {
          "output_type": "stream",
          "name": "stdout",
          "text": [
            "\b\b\b\b\b\b\b\b\b\b\b\b\b\b\b\b\b\b\b\b\b\b\b\b\b\b\b\b\b\b\b\b\b\b\b\b\b\b\b\b\b\b\b\b\b\b\b\b\b\b\b\b\b\b\b\b\b\b\b\b\b\b\b\b\b\b\b\r2778/2778 [==============================] - 77s 24ms/step - loss: 0.3485 - val_loss: 0.3466\n",
            "Epoch 2/25\n",
            "2776/2778 [============================>.] - ETA: 0s - loss: 0.3465"
          ]
        },
        {
          "output_type": "stream",
          "name": "stderr",
          "text": [
            "WARNING:absl:Found untraced functions such as lstm_cell_layer_call_fn, lstm_cell_layer_call_and_return_conditional_losses, lstm_cell_1_layer_call_fn, lstm_cell_1_layer_call_and_return_conditional_losses, lstm_cell_2_layer_call_fn while saving (showing 5 of 6). These functions will not be directly callable after loading.\n"
          ]
        },
        {
          "output_type": "stream",
          "name": "stdout",
          "text": [
            "INFO:tensorflow:Assets written to: training_1/cp.ckpt/assets\n"
          ]
        },
        {
          "output_type": "stream",
          "name": "stderr",
          "text": [
            "INFO:tensorflow:Assets written to: training_1/cp.ckpt/assets\n",
            "WARNING:absl:<keras.layers.recurrent.LSTMCell object at 0x7fc3e46813d0> has the same name 'LSTMCell' as a built-in Keras object. Consider renaming <class 'keras.layers.recurrent.LSTMCell'> to avoid naming conflicts when loading with `tf.keras.models.load_model`. If renaming is not possible, pass the object in the `custom_objects` parameter of the load function.\n",
            "WARNING:absl:<keras.layers.recurrent.LSTMCell object at 0x7fc3cd4ed310> has the same name 'LSTMCell' as a built-in Keras object. Consider renaming <class 'keras.layers.recurrent.LSTMCell'> to avoid naming conflicts when loading with `tf.keras.models.load_model`. If renaming is not possible, pass the object in the `custom_objects` parameter of the load function.\n",
            "WARNING:absl:<keras.layers.recurrent.LSTMCell object at 0x7fc35fb1b450> has the same name 'LSTMCell' as a built-in Keras object. Consider renaming <class 'keras.layers.recurrent.LSTMCell'> to avoid naming conflicts when loading with `tf.keras.models.load_model`. If renaming is not possible, pass the object in the `custom_objects` parameter of the load function.\n"
          ]
        },
        {
          "output_type": "stream",
          "name": "stdout",
          "text": [
            "\b\b\b\b\b\b\b\b\b\b\b\b\b\b\b\b\b\b\b\b\b\b\b\b\b\b\b\b\b\b\b\b\b\b\b\b\b\b\b\b\b\b\b\b\b\b\b\b\b\b\b\b\b\b\b\b\b\b\b\b\b\b\b\b\b\b\b\r2778/2778 [==============================] - 66s 24ms/step - loss: 0.3465 - val_loss: 0.3466\n",
            "Epoch 3/25\n",
            "2775/2778 [============================>.] - ETA: 0s - loss: 0.3465"
          ]
        },
        {
          "output_type": "stream",
          "name": "stderr",
          "text": [
            "WARNING:absl:Found untraced functions such as lstm_cell_layer_call_fn, lstm_cell_layer_call_and_return_conditional_losses, lstm_cell_1_layer_call_fn, lstm_cell_1_layer_call_and_return_conditional_losses, lstm_cell_2_layer_call_fn while saving (showing 5 of 6). These functions will not be directly callable after loading.\n"
          ]
        },
        {
          "output_type": "stream",
          "name": "stdout",
          "text": [
            "INFO:tensorflow:Assets written to: training_1/cp.ckpt/assets\n"
          ]
        },
        {
          "output_type": "stream",
          "name": "stderr",
          "text": [
            "INFO:tensorflow:Assets written to: training_1/cp.ckpt/assets\n",
            "WARNING:absl:<keras.layers.recurrent.LSTMCell object at 0x7fc3e46813d0> has the same name 'LSTMCell' as a built-in Keras object. Consider renaming <class 'keras.layers.recurrent.LSTMCell'> to avoid naming conflicts when loading with `tf.keras.models.load_model`. If renaming is not possible, pass the object in the `custom_objects` parameter of the load function.\n",
            "WARNING:absl:<keras.layers.recurrent.LSTMCell object at 0x7fc3cd4ed310> has the same name 'LSTMCell' as a built-in Keras object. Consider renaming <class 'keras.layers.recurrent.LSTMCell'> to avoid naming conflicts when loading with `tf.keras.models.load_model`. If renaming is not possible, pass the object in the `custom_objects` parameter of the load function.\n",
            "WARNING:absl:<keras.layers.recurrent.LSTMCell object at 0x7fc35fb1b450> has the same name 'LSTMCell' as a built-in Keras object. Consider renaming <class 'keras.layers.recurrent.LSTMCell'> to avoid naming conflicts when loading with `tf.keras.models.load_model`. If renaming is not possible, pass the object in the `custom_objects` parameter of the load function.\n"
          ]
        },
        {
          "output_type": "stream",
          "name": "stdout",
          "text": [
            "\b\b\b\b\b\b\b\b\b\b\b\b\b\b\b\b\b\b\b\b\b\b\b\b\b\b\b\b\b\b\b\b\b\b\b\b\b\b\b\b\b\b\b\b\b\b\b\b\b\b\b\b\b\b\b\b\b\b\b\b\b\b\b\b\b\b\b\r2778/2778 [==============================] - 66s 24ms/step - loss: 0.3465 - val_loss: 0.3466\n",
            "Epoch 4/25\n",
            "2775/2778 [============================>.] - ETA: 0s - loss: 0.3465"
          ]
        },
        {
          "output_type": "stream",
          "name": "stderr",
          "text": [
            "WARNING:absl:Found untraced functions such as lstm_cell_layer_call_fn, lstm_cell_layer_call_and_return_conditional_losses, lstm_cell_1_layer_call_fn, lstm_cell_1_layer_call_and_return_conditional_losses, lstm_cell_2_layer_call_fn while saving (showing 5 of 6). These functions will not be directly callable after loading.\n"
          ]
        },
        {
          "output_type": "stream",
          "name": "stdout",
          "text": [
            "INFO:tensorflow:Assets written to: training_1/cp.ckpt/assets\n"
          ]
        },
        {
          "output_type": "stream",
          "name": "stderr",
          "text": [
            "INFO:tensorflow:Assets written to: training_1/cp.ckpt/assets\n",
            "WARNING:absl:<keras.layers.recurrent.LSTMCell object at 0x7fc3e46813d0> has the same name 'LSTMCell' as a built-in Keras object. Consider renaming <class 'keras.layers.recurrent.LSTMCell'> to avoid naming conflicts when loading with `tf.keras.models.load_model`. If renaming is not possible, pass the object in the `custom_objects` parameter of the load function.\n",
            "WARNING:absl:<keras.layers.recurrent.LSTMCell object at 0x7fc3cd4ed310> has the same name 'LSTMCell' as a built-in Keras object. Consider renaming <class 'keras.layers.recurrent.LSTMCell'> to avoid naming conflicts when loading with `tf.keras.models.load_model`. If renaming is not possible, pass the object in the `custom_objects` parameter of the load function.\n",
            "WARNING:absl:<keras.layers.recurrent.LSTMCell object at 0x7fc35fb1b450> has the same name 'LSTMCell' as a built-in Keras object. Consider renaming <class 'keras.layers.recurrent.LSTMCell'> to avoid naming conflicts when loading with `tf.keras.models.load_model`. If renaming is not possible, pass the object in the `custom_objects` parameter of the load function.\n"
          ]
        },
        {
          "output_type": "stream",
          "name": "stdout",
          "text": [
            "\b\b\b\b\b\b\b\b\b\b\b\b\b\b\b\b\b\b\b\b\b\b\b\b\b\b\b\b\b\b\b\b\b\b\b\b\b\b\b\b\b\b\b\b\b\b\b\b\b\b\b\b\b\b\b\b\b\b\b\b\b\b\b\b\b\b\b\r2778/2778 [==============================] - 67s 24ms/step - loss: 0.3465 - val_loss: 0.3466\n",
            "Epoch 5/25\n",
            "2778/2778 [==============================] - ETA: 0s - loss: 0.3465"
          ]
        },
        {
          "output_type": "stream",
          "name": "stderr",
          "text": [
            "WARNING:absl:Found untraced functions such as lstm_cell_layer_call_fn, lstm_cell_layer_call_and_return_conditional_losses, lstm_cell_1_layer_call_fn, lstm_cell_1_layer_call_and_return_conditional_losses, lstm_cell_2_layer_call_fn while saving (showing 5 of 6). These functions will not be directly callable after loading.\n"
          ]
        },
        {
          "output_type": "stream",
          "name": "stdout",
          "text": [
            "INFO:tensorflow:Assets written to: training_1/cp.ckpt/assets\n"
          ]
        },
        {
          "output_type": "stream",
          "name": "stderr",
          "text": [
            "INFO:tensorflow:Assets written to: training_1/cp.ckpt/assets\n",
            "WARNING:absl:<keras.layers.recurrent.LSTMCell object at 0x7fc3e46813d0> has the same name 'LSTMCell' as a built-in Keras object. Consider renaming <class 'keras.layers.recurrent.LSTMCell'> to avoid naming conflicts when loading with `tf.keras.models.load_model`. If renaming is not possible, pass the object in the `custom_objects` parameter of the load function.\n",
            "WARNING:absl:<keras.layers.recurrent.LSTMCell object at 0x7fc3cd4ed310> has the same name 'LSTMCell' as a built-in Keras object. Consider renaming <class 'keras.layers.recurrent.LSTMCell'> to avoid naming conflicts when loading with `tf.keras.models.load_model`. If renaming is not possible, pass the object in the `custom_objects` parameter of the load function.\n",
            "WARNING:absl:<keras.layers.recurrent.LSTMCell object at 0x7fc35fb1b450> has the same name 'LSTMCell' as a built-in Keras object. Consider renaming <class 'keras.layers.recurrent.LSTMCell'> to avoid naming conflicts when loading with `tf.keras.models.load_model`. If renaming is not possible, pass the object in the `custom_objects` parameter of the load function.\n"
          ]
        },
        {
          "output_type": "stream",
          "name": "stdout",
          "text": [
            "\b\b\b\b\b\b\b\b\b\b\b\b\b\b\b\b\b\b\b\b\b\b\b\b\b\b\b\b\b\b\b\b\b\b\b\b\b\b\b\b\b\b\b\b\b\b\b\b\b\b\b\b\b\b\b\b\b\b\b\b\b\b\b\b\b\b\b\r2778/2778 [==============================] - 66s 24ms/step - loss: 0.3465 - val_loss: 0.3466\n",
            "Epoch 6/25\n",
            "2778/2778 [==============================] - ETA: 0s - loss: 0.3465"
          ]
        },
        {
          "output_type": "stream",
          "name": "stderr",
          "text": [
            "WARNING:absl:Found untraced functions such as lstm_cell_layer_call_fn, lstm_cell_layer_call_and_return_conditional_losses, lstm_cell_1_layer_call_fn, lstm_cell_1_layer_call_and_return_conditional_losses, lstm_cell_2_layer_call_fn while saving (showing 5 of 6). These functions will not be directly callable after loading.\n"
          ]
        },
        {
          "output_type": "stream",
          "name": "stdout",
          "text": [
            "INFO:tensorflow:Assets written to: training_1/cp.ckpt/assets\n"
          ]
        },
        {
          "output_type": "stream",
          "name": "stderr",
          "text": [
            "INFO:tensorflow:Assets written to: training_1/cp.ckpt/assets\n",
            "WARNING:absl:<keras.layers.recurrent.LSTMCell object at 0x7fc3e46813d0> has the same name 'LSTMCell' as a built-in Keras object. Consider renaming <class 'keras.layers.recurrent.LSTMCell'> to avoid naming conflicts when loading with `tf.keras.models.load_model`. If renaming is not possible, pass the object in the `custom_objects` parameter of the load function.\n",
            "WARNING:absl:<keras.layers.recurrent.LSTMCell object at 0x7fc3cd4ed310> has the same name 'LSTMCell' as a built-in Keras object. Consider renaming <class 'keras.layers.recurrent.LSTMCell'> to avoid naming conflicts when loading with `tf.keras.models.load_model`. If renaming is not possible, pass the object in the `custom_objects` parameter of the load function.\n",
            "WARNING:absl:<keras.layers.recurrent.LSTMCell object at 0x7fc35fb1b450> has the same name 'LSTMCell' as a built-in Keras object. Consider renaming <class 'keras.layers.recurrent.LSTMCell'> to avoid naming conflicts when loading with `tf.keras.models.load_model`. If renaming is not possible, pass the object in the `custom_objects` parameter of the load function.\n"
          ]
        },
        {
          "output_type": "stream",
          "name": "stdout",
          "text": [
            "\b\b\b\b\b\b\b\b\b\b\b\b\b\b\b\b\b\b\b\b\b\b\b\b\b\b\b\b\b\b\b\b\b\b\b\b\b\b\b\b\b\b\b\b\b\b\b\b\b\b\b\b\b\b\b\b\b\b\b\b\b\b\b\b\b\b\b\r2778/2778 [==============================] - 66s 24ms/step - loss: 0.3465 - val_loss: 0.3466\n",
            "Epoch 7/25\n",
            "2778/2778 [==============================] - 52s 19ms/step - loss: 0.3465 - val_loss: 0.3466\n",
            "Epoch 8/25\n",
            "2778/2778 [==============================] - 51s 18ms/step - loss: 0.3465 - val_loss: 0.3466\n",
            "Epoch 9/25\n",
            "2776/2778 [============================>.] - ETA: 0s - loss: 0.3465"
          ]
        },
        {
          "output_type": "stream",
          "name": "stderr",
          "text": [
            "WARNING:absl:Found untraced functions such as lstm_cell_layer_call_fn, lstm_cell_layer_call_and_return_conditional_losses, lstm_cell_1_layer_call_fn, lstm_cell_1_layer_call_and_return_conditional_losses, lstm_cell_2_layer_call_fn while saving (showing 5 of 6). These functions will not be directly callable after loading.\n"
          ]
        },
        {
          "output_type": "stream",
          "name": "stdout",
          "text": [
            "INFO:tensorflow:Assets written to: training_1/cp.ckpt/assets\n"
          ]
        },
        {
          "output_type": "stream",
          "name": "stderr",
          "text": [
            "INFO:tensorflow:Assets written to: training_1/cp.ckpt/assets\n",
            "WARNING:absl:<keras.layers.recurrent.LSTMCell object at 0x7fc3e46813d0> has the same name 'LSTMCell' as a built-in Keras object. Consider renaming <class 'keras.layers.recurrent.LSTMCell'> to avoid naming conflicts when loading with `tf.keras.models.load_model`. If renaming is not possible, pass the object in the `custom_objects` parameter of the load function.\n",
            "WARNING:absl:<keras.layers.recurrent.LSTMCell object at 0x7fc3cd4ed310> has the same name 'LSTMCell' as a built-in Keras object. Consider renaming <class 'keras.layers.recurrent.LSTMCell'> to avoid naming conflicts when loading with `tf.keras.models.load_model`. If renaming is not possible, pass the object in the `custom_objects` parameter of the load function.\n",
            "WARNING:absl:<keras.layers.recurrent.LSTMCell object at 0x7fc35fb1b450> has the same name 'LSTMCell' as a built-in Keras object. Consider renaming <class 'keras.layers.recurrent.LSTMCell'> to avoid naming conflicts when loading with `tf.keras.models.load_model`. If renaming is not possible, pass the object in the `custom_objects` parameter of the load function.\n"
          ]
        },
        {
          "output_type": "stream",
          "name": "stdout",
          "text": [
            "\b\b\b\b\b\b\b\b\b\b\b\b\b\b\b\b\b\b\b\b\b\b\b\b\b\b\b\b\b\b\b\b\b\b\b\b\b\b\b\b\b\b\b\b\b\b\b\b\b\b\b\b\b\b\b\b\b\b\b\b\b\b\b\b\b\b\b\r2778/2778 [==============================] - 66s 24ms/step - loss: 0.3465 - val_loss: 0.3466\n",
            "Epoch 10/25\n",
            "2778/2778 [==============================] - 50s 18ms/step - loss: 0.3465 - val_loss: 0.3466\n",
            "Epoch 11/25\n",
            "2778/2778 [==============================] - 51s 18ms/step - loss: 0.3465 - val_loss: 0.3466\n",
            "Epoch 12/25\n",
            "2778/2778 [==============================] - 50s 18ms/step - loss: 0.3465 - val_loss: 0.3466\n",
            "Epoch 13/25\n",
            "2778/2778 [==============================] - 50s 18ms/step - loss: 0.3465 - val_loss: 0.3466\n",
            "Epoch 14/25\n",
            "2778/2778 [==============================] - 50s 18ms/step - loss: 0.3465 - val_loss: 0.3466\n",
            "Epoch 15/25\n",
            "2778/2778 [==============================] - 50s 18ms/step - loss: 0.3465 - val_loss: 0.3466\n",
            "Epoch 16/25\n",
            "2778/2778 [==============================] - 50s 18ms/step - loss: 0.3465 - val_loss: 0.3466\n",
            "Epoch 17/25\n",
            "2778/2778 [==============================] - 51s 18ms/step - loss: 0.3465 - val_loss: 0.3466\n",
            "Epoch 18/25\n",
            "2778/2778 [==============================] - 50s 18ms/step - loss: 0.3465 - val_loss: 0.3466\n",
            "Epoch 19/25\n",
            "2778/2778 [==============================] - 50s 18ms/step - loss: 0.3465 - val_loss: 0.3466\n",
            "Epoch 20/25\n",
            "2778/2778 [==============================] - 50s 18ms/step - loss: 0.3465 - val_loss: 0.3466\n",
            "Epoch 21/25\n",
            "2778/2778 [==============================] - 50s 18ms/step - loss: 0.3465 - val_loss: 0.3466\n",
            "Epoch 22/25\n",
            "2778/2778 [==============================] - 52s 19ms/step - loss: 0.3465 - val_loss: 0.3466\n",
            "Epoch 23/25\n",
            "2778/2778 [==============================] - 50s 18ms/step - loss: 0.3465 - val_loss: 0.3466\n",
            "Epoch 24/25\n",
            "2778/2778 [==============================] - 50s 18ms/step - loss: 0.3465 - val_loss: 0.3466\n",
            "Epoch 25/25\n",
            "2778/2778 [==============================] - 50s 18ms/step - loss: 0.3465 - val_loss: 0.3466\n"
          ]
        }
      ]
    },
    {
      "cell_type": "code",
      "source": [
        "#plot a graph to compare the losses\n",
        "plt.plot(history.history['loss'], label='Training loss')\n",
        "plt.plot(history.history['val_loss'], label='Validation loss')\n",
        "plt.legend()"
      ],
      "metadata": {
        "colab": {
          "base_uri": "https://localhost:8080/",
          "height": 285
        },
        "id": "-NPuyfeIuXsH",
        "outputId": "736c31c4-b194-49e3-99e3-025d0a469384"
      },
      "execution_count": null,
      "outputs": [
        {
          "output_type": "execute_result",
          "data": {
            "text/plain": [
              "<matplotlib.legend.Legend at 0x7fc35c7f7190>"
            ]
          },
          "metadata": {},
          "execution_count": 39
        },
        {
          "output_type": "display_data",
          "data": {
            "text/plain": [
              "<Figure size 432x288 with 1 Axes>"
            ],
            "image/png": "[encoded data removed]"
          },
          "metadata": {}
        }
      ]
    },
    {
      "cell_type": "code",
      "source": [
        "# Save the entire model as a SavedModel.\n",
        "!mkdir -p saved_model\n",
        "regressor.save('saved_model/my_model3')"
      ],
      "metadata": {
        "id": "n4LSD_US5Fzd",
        "colab": {
          "base_uri": "https://localhost:8080/"
        },
        "outputId": "88bade29-82e4-481a-e552-c3e1e9f2cef3"
      },
      "execution_count": null,
      "outputs": [
        {
          "output_type": "stream",
          "name": "stderr",
          "text": [
            "WARNING:absl:Found untraced functions such as lstm_cell_layer_call_fn, lstm_cell_layer_call_and_return_conditional_losses, lstm_cell_1_layer_call_fn, lstm_cell_1_layer_call_and_return_conditional_losses, lstm_cell_2_layer_call_fn while saving (showing 5 of 6). These functions will not be directly callable after loading.\n"
          ]
        },
        {
          "output_type": "stream",
          "name": "stdout",
          "text": [
            "INFO:tensorflow:Assets written to: saved_model/my_model3/assets\n"
          ]
        },
        {
          "output_type": "stream",
          "name": "stderr",
          "text": [
            "INFO:tensorflow:Assets written to: saved_model/my_model3/assets\n",
            "WARNING:absl:<keras.layers.recurrent.LSTMCell object at 0x7fc3e46813d0> has the same name 'LSTMCell' as a built-in Keras object. Consider renaming <class 'keras.layers.recurrent.LSTMCell'> to avoid naming conflicts when loading with `tf.keras.models.load_model`. If renaming is not possible, pass the object in the `custom_objects` parameter of the load function.\n",
            "WARNING:absl:<keras.layers.recurrent.LSTMCell object at 0x7fc3cd4ed310> has the same name 'LSTMCell' as a built-in Keras object. Consider renaming <class 'keras.layers.recurrent.LSTMCell'> to avoid naming conflicts when loading with `tf.keras.models.load_model`. If renaming is not possible, pass the object in the `custom_objects` parameter of the load function.\n",
            "WARNING:absl:<keras.layers.recurrent.LSTMCell object at 0x7fc35fb1b450> has the same name 'LSTMCell' as a built-in Keras object. Consider renaming <class 'keras.layers.recurrent.LSTMCell'> to avoid naming conflicts when loading with `tf.keras.models.load_model`. If renaming is not possible, pass the object in the `custom_objects` parameter of the load function.\n"
          ]
        }
      ]
    },
    {
      "cell_type": "code",
      "source": [
        ""
      ],
      "metadata": {
        "id": "uGXgKb9KRinU"
      },
      "execution_count": null,
      "outputs": []
    }
  ],
  "metadata": {
    "colab": {
      "name": "Predictive maintenance using lstm encoder (RNN)",
      "provenance": [],
      "collapsed_sections": [],
      "authorship_tag": "ABX9TyNUi5nnPE1NBOFmANV7P+yp",
      "include_colab_link": true
    },
    "kernelspec": {
      "display_name": "Python 3",
      "name": "python3"
    },
    "language_info": {
      "name": "python"
    },
    "accelerator": "GPU"
  },
  "nbformat": 4,
  "nbformat_minor": 0
}